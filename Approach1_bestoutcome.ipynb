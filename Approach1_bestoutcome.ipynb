{
 "cells": [
  {
   "cell_type": "code",
   "execution_count": 1,
   "id": "44ff3919",
   "metadata": {},
   "outputs": [],
   "source": [
    "import pandas as pd\n",
    "import numpy as np\n",
    "import matplotlib.pyplot as plt\n",
    "%matplotlib inline\n",
    "import seaborn as sns\n",
    "from sklearn.preprocessing import LabelEncoder\n",
    "from sklearn.preprocessing import MaxAbsScaler\n",
    "from lightgbm import LGBMRegressor\n",
    "from sklearn.tree import DecisionTreeRegressor\n",
    "from sklearn.ensemble import RandomForestRegressor\n",
    "from sklearn.model_selection import train_test_split\n",
    "import warnings\n",
    "warnings.filterwarnings('ignore')"
   ]
  },
  {
   "cell_type": "code",
   "execution_count": 2,
   "id": "ee3c04d0",
   "metadata": {},
   "outputs": [],
   "source": [
    "train=pd.read_csv('train.csv')\n",
    "test =pd.read_csv('test.csv')"
   ]
  },
  {
   "cell_type": "markdown",
   "id": "a4fd2750",
   "metadata": {},
   "source": [
    "# Visualization and analysis"
   ]
  },
  {
   "cell_type": "code",
   "execution_count": 6,
   "id": "64c9e9e9",
   "metadata": {},
   "outputs": [
    {
     "data": {
      "text/plain": [
       "<AxesSubplot:>"
      ]
     },
     "execution_count": 6,
     "metadata": {},
     "output_type": "execute_result"
    },
    {
     "data": {
      "image/png": "[encoded data removed]",
      "text/plain": [
       "<Figure size 432x288 with 1 Axes>"
      ]
     },
     "metadata": {
      "needs_background": "light"
     },
     "output_type": "display_data"
    }
   ],
   "source": [
    "train['Outlet_Year'].value_counts().plot(kind='barh')"
   ]
  },
  {
   "cell_type": "code",
   "execution_count": 3,
   "id": "d12b4d70",
   "metadata": {},
   "outputs": [
    {
     "data": {
      "text/plain": [
       "<AxesSubplot:xlabel='Outlet_Location_Type'>"
      ]
     },
     "execution_count": 3,
     "metadata": {},
     "output_type": "execute_result"
    },
    {
     "data": {
      "image/png": "[encoded data removed]",
      "text/plain": [
       "<Figure size 432x288 with 1 Axes>"
      ]
     },
     "metadata": {
      "needs_background": "light"
     },
     "output_type": "display_data"
    }
   ],
   "source": [
    "train.groupby('Outlet_Location_Type')['Sales'].first().plot(kind='bar')"
   ]
  },
  {
   "cell_type": "code",
   "execution_count": 4,
   "id": "4c539770",
   "metadata": {},
   "outputs": [
    {
     "data": {
      "text/plain": [
       "<AxesSubplot:xlabel='Outlet_Size'>"
      ]
     },
     "execution_count": 4,
     "metadata": {},
     "output_type": "execute_result"
    },
    {
     "data": {
      "image/png": "[encoded data removed]",
      "text/plain": [
       "<Figure size 432x288 with 1 Axes>"
      ]
     },
     "metadata": {
      "needs_background": "light"
     },
     "output_type": "display_data"
    }
   ],
   "source": [
    "train.groupby('Outlet_Size')['Sales'].first().plot(kind='bar')"
   ]
  },
  {
   "cell_type": "code",
   "execution_count": 5,
   "id": "3492bb58",
   "metadata": {},
   "outputs": [
    {
     "data": {
      "text/plain": [
       "Item_Type\n",
       "Baking Goods             2689.457781\n",
       "Breads                    581.887837\n",
       "Breakfast                3427.886505\n",
       "Canned                   1831.108778\n",
       "Dairy                     207.274752\n",
       "Frozen Foods             2096.232294\n",
       "Fruits and Vegetables    2815.387889\n",
       "Hard Drinks              3129.967268\n",
       "Health and Hygiene       1998.508351\n",
       "Household                1363.729399\n",
       "Meat                     3437.350375\n",
       "Others                    730.148977\n",
       "Seafood                  1036.315430\n",
       "Snack Foods              1636.772708\n",
       "Soft Drinks              2635.750407\n",
       "Starchy Foods            1306.514376\n",
       "Name: Sales, dtype: float64"
      ]
     },
     "execution_count": 5,
     "metadata": {},
     "output_type": "execute_result"
    }
   ],
   "source": [
    "train.groupby('Item_Type')['Sales'].first()"
   ]
  },
  {
   "cell_type": "code",
   "execution_count": null,
   "id": "93483c93",
   "metadata": {},
   "outputs": [],
   "source": [
    "# hf = h2o.H2OFrame(df)"
   ]
  },
  {
   "cell_type": "markdown",
   "id": "ef20787b",
   "metadata": {},
   "source": [
    "# Data Preprocessing"
   ]
  },
  {
   "cell_type": "code",
   "execution_count": 28,
   "id": "6a61c238",
   "metadata": {},
   "outputs": [],
   "source": [
    "cols = ['Item_ID',\"Item_Type\",\"Outlet_ID\",'Outlet_Size',\"Outlet_Location_Type\",'Outlet_Year']\n",
    "le = LabelEncoder()\n",
    "for col in cols:\n",
    "    train[col] = le.fit_transform(train[col])"
   ]
  },
  {
   "cell_type": "code",
   "execution_count": 29,
   "id": "1fc081f1",
   "metadata": {},
   "outputs": [],
   "source": [
    "sts = MaxAbsScaler()"
   ]
  },
  {
   "cell_type": "code",
   "execution_count": 30,
   "id": "f932a3ad",
   "metadata": {},
   "outputs": [],
   "source": [
    "feature_scale = ['Item_W','Item_MRP']\n",
    "train[feature_scale]=sts.fit_transform(train[feature_scale])"
   ]
  },
  {
   "cell_type": "code",
   "execution_count": 8,
   "id": "5003ebe1",
   "metadata": {},
   "outputs": [],
   "source": [
    "cols = ['Item_ID',\"Item_Type\",\"Outlet_ID\",'Outlet_Size',\"Outlet_Location_Type\",'Outlet_Year']\n",
    "le = LabelEncoder()\n",
    "for col in cols:\n",
    "    test[col] = le.fit_transform(test[col])"
   ]
  },
  {
   "cell_type": "code",
   "execution_count": 9,
   "id": "391a6eee",
   "metadata": {},
   "outputs": [],
   "source": [
    "feature_scale = ['Item_W','Item_MRP']\n",
    "test[feature_scale]=sts.fit_transform(test[feature_scale])"
   ]
  },
  {
   "cell_type": "markdown",
   "id": "e0b4cf76",
   "metadata": {},
   "source": [
    "# Model fitting and H20"
   ]
  },
  {
   "cell_type": "code",
   "execution_count": 11,
   "id": "7a1ac281",
   "metadata": {},
   "outputs": [
    {
     "name": "stdout",
     "output_type": "stream",
     "text": [
      "Checking whether there is an H2O instance running at http://localhost:54321 ..... not found.\n",
      "Attempting to start a local H2O server...\n",
      "; Java HotSpot(TM) 64-Bit Server VM (build 17.0.1+12-LTS-39, mixed mode, sharing)\n",
      "  Starting server from C:\\ProgramData\\Anaconda3\\Lib\\site-packages\\h2o\\backend\\bin\\h2o.jar\n",
      "  Ice root: C:\\Users\\Ayush\\AppData\\Local\\Temp\\tmppxy4k_br\n",
      "  JVM stdout: C:\\Users\\Ayush\\AppData\\Local\\Temp\\tmppxy4k_br\\h2o_Ayush_started_from_python.out\n",
      "  JVM stderr: C:\\Users\\Ayush\\AppData\\Local\\Temp\\tmppxy4k_br\\h2o_Ayush_started_from_python.err\n",
      "  Server is running at http://127.0.0.1:54321\n",
      "Connecting to H2O server at http://127.0.0.1:54321 ... successful.\n"
     ]
    },
    {
     "data": {
      "text/html": [
       "<div style=\"overflow:auto\"><table style=\"width:50%\"><tr><td>H2O_cluster_uptime:</td>\n",
       "<td>02 secs</td></tr>\n",
       "<tr><td>H2O_cluster_timezone:</td>\n",
       "<td>Asia/Kolkata</td></tr>\n",
       "<tr><td>H2O_data_parsing_timezone:</td>\n",
       "<td>UTC</td></tr>\n",
       "<tr><td>H2O_cluster_version:</td>\n",
       "<td>3.34.0.3</td></tr>\n",
       "<tr><td>H2O_cluster_version_age:</td>\n",
       "<td>1 month </td></tr>\n",
       "<tr><td>H2O_cluster_name:</td>\n",
       "<td>H2O_from_python_Ayush_yax10z</td></tr>\n",
       "<tr><td>H2O_cluster_total_nodes:</td>\n",
       "<td>1</td></tr>\n",
       "<tr><td>H2O_cluster_free_memory:</td>\n",
       "<td>3.848 Gb</td></tr>\n",
       "<tr><td>H2O_cluster_total_cores:</td>\n",
       "<td>16</td></tr>\n",
       "<tr><td>H2O_cluster_allowed_cores:</td>\n",
       "<td>16</td></tr>\n",
       "<tr><td>H2O_cluster_status:</td>\n",
       "<td>locked, healthy</td></tr>\n",
       "<tr><td>H2O_connection_url:</td>\n",
       "<td>http://127.0.0.1:54321</td></tr>\n",
       "<tr><td>H2O_connection_proxy:</td>\n",
       "<td>{\"http\": null, \"https\": null}</td></tr>\n",
       "<tr><td>H2O_internal_security:</td>\n",
       "<td>False</td></tr>\n",
       "<tr><td>H2O_API_Extensions:</td>\n",
       "<td>Amazon S3, Algos, AutoML, Core V3, TargetEncoder, Core V4</td></tr>\n",
       "<tr><td>Python_version:</td>\n",
       "<td>3.8.8 final</td></tr></table></div>"
      ],
      "text/plain": [
       "--------------------------  ---------------------------------------------------------\n",
       "H2O_cluster_uptime:         02 secs\n",
       "H2O_cluster_timezone:       Asia/Kolkata\n",
       "H2O_data_parsing_timezone:  UTC\n",
       "H2O_cluster_version:        3.34.0.3\n",
       "H2O_cluster_version_age:    1 month\n",
       "H2O_cluster_name:           H2O_from_python_Ayush_yax10z\n",
       "H2O_cluster_total_nodes:    1\n",
       "H2O_cluster_free_memory:    3.848 Gb\n",
       "H2O_cluster_total_cores:    16\n",
       "H2O_cluster_allowed_cores:  16\n",
       "H2O_cluster_status:         locked, healthy\n",
       "H2O_connection_url:         http://127.0.0.1:54321\n",
       "H2O_connection_proxy:       {\"http\": null, \"https\": null}\n",
       "H2O_internal_security:      False\n",
       "H2O_API_Extensions:         Amazon S3, Algos, AutoML, Core V3, TargetEncoder, Core V4\n",
       "Python_version:             3.8.8 final\n",
       "--------------------------  ---------------------------------------------------------"
      ]
     },
     "metadata": {},
     "output_type": "display_data"
    }
   ],
   "source": [
    "import h2o\n",
    "from h2o.automl import H2OAutoML\n",
    "h2o.init()"
   ]
  },
  {
   "cell_type": "code",
   "execution_count": 33,
   "id": "7a7a5d87",
   "metadata": {},
   "outputs": [
    {
     "name": "stdout",
     "output_type": "stream",
     "text": [
      "Parse progress: |████████████████████████████████████████████████████████████████| (done) 100%\n",
      "Parse progress: |████████████████████████████████████████████████████████████████| (done) 100%\n"
     ]
    }
   ],
   "source": [
    "hf_train = h2o.H2OFrame(train)\n",
    "hf_test = h2o.H2OFrame(test)"
   ]
  },
  {
   "cell_type": "code",
   "execution_count": 36,
   "id": "69164953",
   "metadata": {},
   "outputs": [],
   "source": [
    "y='Sales'\n",
    "x=hf_train.columns\n",
    "x.remove(y)"
   ]
  },
  {
   "cell_type": "code",
   "execution_count": 37,
   "id": "91ecd07d",
   "metadata": {},
   "outputs": [
    {
     "name": "stdout",
     "output_type": "stream",
     "text": [
      "AutoML progress: |\n",
      "10:25:29.37: AutoML: XGBoost is not available; skipping it.\n",
      "10:25:29.38: Step 'best_of_family_xgboost' not defined in provider 'StackedEnsemble': skipping it.\n",
      "10:25:29.38: Step 'all_xgboost' not defined in provider 'StackedEnsemble': skipping it.\n",
      "\n",
      "███████████████████████████████████████████████████████████████| (done) 100%\n",
      "Model Details\n",
      "=============\n",
      "H2OStackedEnsembleEstimator :  Stacked Ensemble\n",
      "Model Key:  StackedEnsemble_AllModels_6_AutoML_2_20211108_102529\n",
      "\n",
      "No model summary for this model\n",
      "\n",
      "ModelMetricsRegressionGLM: stackedensemble\n",
      "** Reported on train data. **\n",
      "\n",
      "MSE: 1532569.7476286923\n",
      "RMSE: 1237.9700107953715\n",
      "MAE: 976.9806460880413\n",
      "RMSLE: NaN\n",
      "R^2: 0.06806290924900038\n",
      "Mean Residual Deviance: 1532569.7476286923\n",
      "Null degrees of freedom: 9935\n",
      "Residual degrees of freedom: 9927\n",
      "Null deviance: 16341980940.873695\n",
      "Residual deviance: 15227613012.438686\n",
      "AIC: 169730.19389928377\n",
      "\n",
      "ModelMetricsRegressionGLM: stackedensemble\n",
      "** Reported on cross-validation data. **\n",
      "\n",
      "MSE: 1625818.3304954045\n",
      "RMSE: 1275.0758136265486\n",
      "MAE: 1000.5074497175488\n",
      "RMSLE: NaN\n",
      "R^2: 0.025089362869752496\n",
      "Mean Residual Deviance: 1625818.3304954045\n",
      "Null degrees of freedom: 87863\n",
      "Residual degrees of freedom: 87856\n",
      "Null deviance: 146530289367.59454\n",
      "Residual deviance: 142850901790.64822\n",
      "AIC: 1505954.145072136\n"
     ]
    },
    {
     "data": {
      "text/plain": []
     },
     "execution_count": 37,
     "metadata": {},
     "output_type": "execute_result"
    }
   ],
   "source": [
    "aml = H2OAutoML(max_models=20,seed=1)\n",
    "aml.train(x=x,y=y,training_frame=hf_train)"
   ]
  },
  {
   "cell_type": "code",
   "execution_count": 38,
   "id": "ff3e2c84",
   "metadata": {},
   "outputs": [
    {
     "data": {
      "text/html": [
       "<table>\n",
       "<thead>\n",
       "<tr><th>model_id                                               </th><th style=\"text-align: right;\">  mean_residual_deviance</th><th style=\"text-align: right;\">   rmse</th><th style=\"text-align: right;\">        mse</th><th style=\"text-align: right;\">    mae</th><th style=\"text-align: right;\">  rmsle</th></tr>\n",
       "</thead>\n",
       "<tbody>\n",
       "<tr><td>StackedEnsemble_AllModels_6_AutoML_2_20211108_102529   </td><td style=\"text-align: right;\">             1.62582e+06</td><td style=\"text-align: right;\">1275.08</td><td style=\"text-align: right;\">1.62582e+06</td><td style=\"text-align: right;\">1000.51</td><td style=\"text-align: right;\">    nan</td></tr>\n",
       "<tr><td>StackedEnsemble_AllModels_3_AutoML_2_20211108_102529   </td><td style=\"text-align: right;\">             1.62602e+06</td><td style=\"text-align: right;\">1275.15</td><td style=\"text-align: right;\">1.62602e+06</td><td style=\"text-align: right;\">1000.61</td><td style=\"text-align: right;\">    nan</td></tr>\n",
       "<tr><td>StackedEnsemble_AllModels_4_AutoML_2_20211108_102529   </td><td style=\"text-align: right;\">             1.62606e+06</td><td style=\"text-align: right;\">1275.17</td><td style=\"text-align: right;\">1.62606e+06</td><td style=\"text-align: right;\">1000.6 </td><td style=\"text-align: right;\">    nan</td></tr>\n",
       "<tr><td>StackedEnsemble_AllModels_2_AutoML_2_20211108_102529   </td><td style=\"text-align: right;\">             1.62668e+06</td><td style=\"text-align: right;\">1275.41</td><td style=\"text-align: right;\">1.62668e+06</td><td style=\"text-align: right;\">1000.83</td><td style=\"text-align: right;\">    nan</td></tr>\n",
       "<tr><td>StackedEnsemble_BestOfFamily_3_AutoML_2_20211108_102529</td><td style=\"text-align: right;\">             1.62763e+06</td><td style=\"text-align: right;\">1275.79</td><td style=\"text-align: right;\">1.62763e+06</td><td style=\"text-align: right;\">1001.16</td><td style=\"text-align: right;\">    nan</td></tr>\n",
       "<tr><td>GBM_5_AutoML_2_20211108_102529                         </td><td style=\"text-align: right;\">             1.62767e+06</td><td style=\"text-align: right;\">1275.8 </td><td style=\"text-align: right;\">1.62767e+06</td><td style=\"text-align: right;\">1001.24</td><td style=\"text-align: right;\">    nan</td></tr>\n",
       "<tr><td>StackedEnsemble_BestOfFamily_4_AutoML_2_20211108_102529</td><td style=\"text-align: right;\">             1.62767e+06</td><td style=\"text-align: right;\">1275.8 </td><td style=\"text-align: right;\">1.62767e+06</td><td style=\"text-align: right;\">1001.15</td><td style=\"text-align: right;\">    nan</td></tr>\n",
       "<tr><td>StackedEnsemble_AllModels_1_AutoML_2_20211108_102529   </td><td style=\"text-align: right;\">             1.62817e+06</td><td style=\"text-align: right;\">1276   </td><td style=\"text-align: right;\">1.62817e+06</td><td style=\"text-align: right;\">1001.14</td><td style=\"text-align: right;\">    nan</td></tr>\n",
       "<tr><td>StackedEnsemble_BestOfFamily_6_AutoML_2_20211108_102529</td><td style=\"text-align: right;\">             1.6282e+06 </td><td style=\"text-align: right;\">1276.01</td><td style=\"text-align: right;\">1.6282e+06 </td><td style=\"text-align: right;\">1001.3 </td><td style=\"text-align: right;\">    nan</td></tr>\n",
       "<tr><td>StackedEnsemble_AllModels_5_AutoML_2_20211108_102529   </td><td style=\"text-align: right;\">             1.62838e+06</td><td style=\"text-align: right;\">1276.08</td><td style=\"text-align: right;\">1.62838e+06</td><td style=\"text-align: right;\">1001.23</td><td style=\"text-align: right;\">    nan</td></tr>\n",
       "</tbody>\n",
       "</table>"
      ]
     },
     "metadata": {},
     "output_type": "display_data"
    },
    {
     "data": {
      "text/plain": []
     },
     "execution_count": 38,
     "metadata": {},
     "output_type": "execute_result"
    }
   ],
   "source": [
    "lb = aml.leaderboard\n",
    "lb"
   ]
  },
  {
   "cell_type": "code",
   "execution_count": 39,
   "id": "9f28a80b",
   "metadata": {},
   "outputs": [
    {
     "name": "stdout",
     "output_type": "stream",
     "text": [
      "stackedensemble prediction progress: |███████████████████████████████████████████| (done) 100%\n"
     ]
    }
   ],
   "source": [
    "preds = aml.predict(hf_test)"
   ]
  },
  {
   "cell_type": "code",
   "execution_count": 41,
   "id": "fc94156d",
   "metadata": {},
   "outputs": [
    {
     "data": {
      "text/html": [
       "<table>\n",
       "<thead>\n",
       "<tr><th style=\"text-align: right;\">  Item_ID</th><th style=\"text-align: right;\">  Item_W</th><th style=\"text-align: right;\">  Item_Type</th><th style=\"text-align: right;\">  Item_MRP</th><th style=\"text-align: right;\">  Outlet_ID</th><th style=\"text-align: right;\">  Outlet_Year</th><th style=\"text-align: right;\">  Outlet_Size</th><th style=\"text-align: right;\">  Outlet_Location_Type</th><th style=\"text-align: right;\">  predict</th></tr>\n",
       "</thead>\n",
       "<tbody>\n",
       "<tr><td style=\"text-align: right;\">       73</td><td style=\"text-align: right;\">0.477964</td><td style=\"text-align: right;\">         13</td><td style=\"text-align: right;\">  0.449904</td><td style=\"text-align: right;\">          0</td><td style=\"text-align: right;\">            5</td><td style=\"text-align: right;\">            0</td><td style=\"text-align: right;\">                     2</td><td style=\"text-align: right;\">  2085.08</td></tr>\n",
       "<tr><td style=\"text-align: right;\">      237</td><td style=\"text-align: right;\">0.491032</td><td style=\"text-align: right;\">          9</td><td style=\"text-align: right;\">  0.993928</td><td style=\"text-align: right;\">          1</td><td style=\"text-align: right;\">            0</td><td style=\"text-align: right;\">            0</td><td style=\"text-align: right;\">                     2</td><td style=\"text-align: right;\">  1846.87</td></tr>\n",
       "</tbody>\n",
       "</table>"
      ]
     },
     "metadata": {},
     "output_type": "display_data"
    },
    {
     "data": {
      "text/plain": []
     },
     "execution_count": 41,
     "metadata": {},
     "output_type": "execute_result"
    }
   ],
   "source": [
    "df = hf_test.cbind(preds)\n",
    "df.head(2)"
   ]
  },
  {
   "cell_type": "code",
   "execution_count": 42,
   "id": "fdf88abb",
   "metadata": {},
   "outputs": [
    {
     "data": {
      "text/html": [
       "<table>\n",
       "<thead>\n",
       "<tr><th style=\"text-align: right;\">  predict</th></tr>\n",
       "</thead>\n",
       "<tbody>\n",
       "<tr><td style=\"text-align: right;\">  2085.08</td></tr>\n",
       "<tr><td style=\"text-align: right;\">  1846.87</td></tr>\n",
       "</tbody>\n",
       "</table>"
      ]
     },
     "metadata": {},
     "output_type": "display_data"
    },
    {
     "data": {
      "text/plain": []
     },
     "execution_count": 42,
     "metadata": {},
     "output_type": "execute_result"
    }
   ],
   "source": [
    "res = df[:, [ \"predict\"]]\n",
    "res.head(2)"
   ]
  },
  {
   "cell_type": "code",
   "execution_count": 43,
   "id": "4d2ed3de",
   "metadata": {},
   "outputs": [
    {
     "data": {
      "text/html": [
       "<table>\n",
       "<thead>\n",
       "<tr><th style=\"text-align: right;\">  Sales</th></tr>\n",
       "</thead>\n",
       "<tbody>\n",
       "<tr><td style=\"text-align: right;\">2085.08</td></tr>\n",
       "<tr><td style=\"text-align: right;\">1846.87</td></tr>\n",
       "<tr><td style=\"text-align: right;\">1876.2 </td></tr>\n",
       "<tr><td style=\"text-align: right;\">1771.27</td></tr>\n",
       "<tr><td style=\"text-align: right;\">1514.88</td></tr>\n",
       "<tr><td style=\"text-align: right;\">1968.75</td></tr>\n",
       "<tr><td style=\"text-align: right;\">2024.45</td></tr>\n",
       "<tr><td style=\"text-align: right;\">2143.4 </td></tr>\n",
       "<tr><td style=\"text-align: right;\">1901.66</td></tr>\n",
       "<tr><td style=\"text-align: right;\">2098.29</td></tr>\n",
       "</tbody>\n",
       "</table>"
      ]
     },
     "metadata": {},
     "output_type": "display_data"
    },
    {
     "data": {
      "text/plain": []
     },
     "execution_count": 43,
     "metadata": {},
     "output_type": "execute_result"
    }
   ],
   "source": [
    "res.set_names(['Sales'])"
   ]
  },
  {
   "cell_type": "code",
   "execution_count": 44,
   "id": "75b46171",
   "metadata": {},
   "outputs": [
    {
     "name": "stdout",
     "output_type": "stream",
     "text": [
      "Export File progress: |██████████████████████████████████████████████████████████| (done) 100%\n"
     ]
    }
   ],
   "source": [
    "h2o.export_file(res, path = \"try.csv\", force = True)"
   ]
  }
 ],
 "metadata": {
  "kernelspec": {
   "display_name": "Python 3 (ipykernel)",
   "language": "python",
   "name": "python3"
  },
  "language_info": {
   "codemirror_mode": {
    "name": "ipython",
    "version": 3
   },
   "file_extension": ".py",
   "mimetype": "text/x-python",
   "name": "python",
   "nbconvert_exporter": "python",
   "pygments_lexer": "ipython3",
   "version": "3.8.13"
  }
 },
 "nbformat": 4,
 "nbformat_minor": 5
}
