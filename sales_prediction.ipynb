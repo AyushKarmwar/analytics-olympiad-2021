{
 "cells": [
  {
   "cell_type": "code",
   "execution_count": 1,
   "id": "dd0f4974",
   "metadata": {},
   "outputs": [],
   "source": [
    "import pandas as pd\n",
    "import numpy as np\n",
    "import matplotlib.pyplot as plt\n",
    "%matplotlib inline\n",
    "import seaborn as sns\n",
    "from sklearn.preprocessing import LabelEncoder\n",
    "from sklearn.preprocessing import MaxAbsScaler\n",
    "from lightgbm import LGBMRegressor\n",
    "from sklearn.tree import DecisionTreeRegressor\n",
    "from sklearn.ensemble import RandomForestRegressor\n",
    "from sklearn.model_selection import train_test_split\n",
    "import warnings\n",
    "warnings.filterwarnings('ignore')"
   ]
  },
  {
   "cell_type": "code",
   "execution_count": 5,
   "id": "21b4ff7d",
   "metadata": {},
   "outputs": [],
   "source": [
    "train=pd.read_csv('train.csv')\n",
    "test=pd.read_csv('test.csv')"
   ]
  },
  {
   "cell_type": "code",
   "execution_count": 166,
   "id": "591a593d",
   "metadata": {},
   "outputs": [],
   "source": [
    "y=train['Sales']\n",
    "x=train.drop(['Sales'],axis=1)\n"
   ]
  },
  {
   "cell_type": "code",
   "execution_count": 167,
   "id": "b59bddcf",
   "metadata": {},
   "outputs": [],
   "source": [
    "X_train, X_valid, y_train, y_valid = train_test_split(x, y, test_size=0.33)"
   ]
  },
  {
   "cell_type": "code",
   "execution_count": null,
   "id": "5107ef6b",
   "metadata": {},
   "outputs": [],
   "source": [
    "train.groupby Sales"
   ]
  },
  {
   "cell_type": "code",
   "execution_count": 26,
   "id": "c6070128",
   "metadata": {},
   "outputs": [
    {
     "data": {
      "text/plain": [
       "<AxesSubplot:xlabel='Outlet_Location_Type'>"
      ]
     },
     "execution_count": 26,
     "metadata": {},
     "output_type": "execute_result"
    },
    {
     "data": {
      "image/png": "[encoded data removed]",
      "text/plain": [
       "<Figure size 432x288 with 1 Axes>"
      ]
     },
     "metadata": {
      "needs_background": "light"
     },
     "output_type": "display_data"
    }
   ],
   "source": [
    "train.groupby('Outlet_Location_Type')['Sales'].first().plot(kind='bar')"
   ]
  },
  {
   "cell_type": "code",
   "execution_count": 24,
   "id": "0f921931",
   "metadata": {},
   "outputs": [
    {
     "data": {
      "text/plain": [
       "<AxesSubplot:xlabel='Outlet_Size'>"
      ]
     },
     "execution_count": 24,
     "metadata": {},
     "output_type": "execute_result"
    },
    {
     "data": {
      "image/png": "[encoded data removed]",
      "text/plain": [
       "<Figure size 432x288 with 1 Axes>"
      ]
     },
     "metadata": {
      "needs_background": "light"
     },
     "output_type": "display_data"
    }
   ],
   "source": [
    "train.groupby('Outlet_Size')['Sales'].first().plot(kind='bar')"
   ]
  },
  {
   "cell_type": "code",
   "execution_count": null,
   "id": "3355dbc6",
   "metadata": {},
   "outputs": [],
   "source": [
    "A summary of the important business outcomes /real life impact\n"
   ]
  },
  {
   "cell_type": "code",
   "execution_count": 22,
   "id": "8be11cd6",
   "metadata": {},
   "outputs": [
    {
     "data": {
      "text/plain": [
       "Item_Type\n",
       "Baking Goods             2689.457781\n",
       "Breads                    581.887837\n",
       "Breakfast                3427.886505\n",
       "Canned                   1831.108778\n",
       "Dairy                     207.274752\n",
       "Frozen Foods             2096.232294\n",
       "Fruits and Vegetables    2815.387889\n",
       "Hard Drinks              3129.967268\n",
       "Health and Hygiene       1998.508351\n",
       "Household                1363.729399\n",
       "Meat                     3437.350375\n",
       "Others                    730.148977\n",
       "Seafood                  1036.315430\n",
       "Snack Foods              1636.772708\n",
       "Soft Drinks              2635.750407\n",
       "Starchy Foods            1306.514376\n",
       "Name: Sales, dtype: float64"
      ]
     },
     "execution_count": 22,
     "metadata": {},
     "output_type": "execute_result"
    }
   ],
   "source": [
    "train.groupby('Item_Type')['Sales'].first()"
   ]
  },
  {
   "cell_type": "code",
   "execution_count": null,
   "id": "cbad26d8",
   "metadata": {},
   "outputs": [],
   "source": []
  },
  {
   "cell_type": "code",
   "execution_count": 3,
   "id": "93021cab",
   "metadata": {},
   "outputs": [
    {
     "data": {
      "text/html": [
       "<div>\n",
       "<style scoped>\n",
       "    .dataframe tbody tr th:only-of-type {\n",
       "        vertical-align: middle;\n",
       "    }\n",
       "\n",
       "    .dataframe tbody tr th {\n",
       "        vertical-align: top;\n",
       "    }\n",
       "\n",
       "    .dataframe thead th {\n",
       "        text-align: right;\n",
       "    }\n",
       "</style>\n",
       "<table border=\"1\" class=\"dataframe\">\n",
       "  <thead>\n",
       "    <tr style=\"text-align: right;\">\n",
       "      <th></th>\n",
       "      <th>Item_ID</th>\n",
       "      <th>Item_W</th>\n",
       "      <th>Item_Type</th>\n",
       "      <th>Item_MRP</th>\n",
       "      <th>Outlet_ID</th>\n",
       "      <th>Outlet_Year</th>\n",
       "      <th>Outlet_Size</th>\n",
       "      <th>Outlet_Location_Type</th>\n",
       "      <th>Sales</th>\n",
       "    </tr>\n",
       "  </thead>\n",
       "  <tbody>\n",
       "    <tr>\n",
       "      <th>0</th>\n",
       "      <td>FDU32</td>\n",
       "      <td>21.027499</td>\n",
       "      <td>Baking Goods</td>\n",
       "      <td>197.352319</td>\n",
       "      <td>OUT046</td>\n",
       "      <td>2004</td>\n",
       "      <td>Small</td>\n",
       "      <td>Tier 2</td>\n",
       "      <td>2689.457781</td>\n",
       "    </tr>\n",
       "    <tr>\n",
       "      <th>1</th>\n",
       "      <td>NCT54</td>\n",
       "      <td>21.102371</td>\n",
       "      <td>Meat</td>\n",
       "      <td>148.250214</td>\n",
       "      <td>OUT035</td>\n",
       "      <td>1987</td>\n",
       "      <td>Small</td>\n",
       "      <td>Tier 1</td>\n",
       "      <td>3437.350375</td>\n",
       "    </tr>\n",
       "    <tr>\n",
       "      <th>2</th>\n",
       "      <td>FDW08</td>\n",
       "      <td>20.882263</td>\n",
       "      <td>Hard Drinks</td>\n",
       "      <td>205.465010</td>\n",
       "      <td>OUT035</td>\n",
       "      <td>1999</td>\n",
       "      <td>Small</td>\n",
       "      <td>Tier 3</td>\n",
       "      <td>3129.967268</td>\n",
       "    </tr>\n",
       "    <tr>\n",
       "      <th>3</th>\n",
       "      <td>FDJ22</td>\n",
       "      <td>21.050435</td>\n",
       "      <td>Starchy Foods</td>\n",
       "      <td>253.417583</td>\n",
       "      <td>OUT046</td>\n",
       "      <td>1996</td>\n",
       "      <td>Small</td>\n",
       "      <td>Tier 1</td>\n",
       "      <td>1306.514376</td>\n",
       "    </tr>\n",
       "    <tr>\n",
       "      <th>4</th>\n",
       "      <td>FDF47</td>\n",
       "      <td>21.247876</td>\n",
       "      <td>Baking Goods</td>\n",
       "      <td>240.871039</td>\n",
       "      <td>OUT035</td>\n",
       "      <td>1988</td>\n",
       "      <td>Small</td>\n",
       "      <td>Tier 3</td>\n",
       "      <td>1739.769829</td>\n",
       "    </tr>\n",
       "    <tr>\n",
       "      <th>...</th>\n",
       "      <td>...</td>\n",
       "      <td>...</td>\n",
       "      <td>...</td>\n",
       "      <td>...</td>\n",
       "      <td>...</td>\n",
       "      <td>...</td>\n",
       "      <td>...</td>\n",
       "      <td>...</td>\n",
       "      <td>...</td>\n",
       "    </tr>\n",
       "    <tr>\n",
       "      <th>87859</th>\n",
       "      <td>FDG24</td>\n",
       "      <td>9.994412</td>\n",
       "      <td>Breakfast</td>\n",
       "      <td>147.389893</td>\n",
       "      <td>OUT035</td>\n",
       "      <td>1987</td>\n",
       "      <td>Medium</td>\n",
       "      <td>Tier 3</td>\n",
       "      <td>4975.646052</td>\n",
       "    </tr>\n",
       "    <tr>\n",
       "      <th>87860</th>\n",
       "      <td>FDA32</td>\n",
       "      <td>11.259252</td>\n",
       "      <td>Canned</td>\n",
       "      <td>127.965666</td>\n",
       "      <td>OUT049</td>\n",
       "      <td>1987</td>\n",
       "      <td>Medium</td>\n",
       "      <td>Tier 2</td>\n",
       "      <td>2252.492755</td>\n",
       "    </tr>\n",
       "    <tr>\n",
       "      <th>87861</th>\n",
       "      <td>FDM04</td>\n",
       "      <td>11.385812</td>\n",
       "      <td>Household</td>\n",
       "      <td>119.028901</td>\n",
       "      <td>OUT018</td>\n",
       "      <td>1997</td>\n",
       "      <td>Medium</td>\n",
       "      <td>Tier 1</td>\n",
       "      <td>2716.058050</td>\n",
       "    </tr>\n",
       "    <tr>\n",
       "      <th>87862</th>\n",
       "      <td>NCS18</td>\n",
       "      <td>18.018028</td>\n",
       "      <td>Household</td>\n",
       "      <td>223.416318</td>\n",
       "      <td>OUT018</td>\n",
       "      <td>1988</td>\n",
       "      <td>Medium</td>\n",
       "      <td>Tier 3</td>\n",
       "      <td>991.857233</td>\n",
       "    </tr>\n",
       "    <tr>\n",
       "      <th>87863</th>\n",
       "      <td>FDQ11</td>\n",
       "      <td>17.130290</td>\n",
       "      <td>Snack Foods</td>\n",
       "      <td>143.232048</td>\n",
       "      <td>OUT013</td>\n",
       "      <td>1997</td>\n",
       "      <td>Medium</td>\n",
       "      <td>Tier 3</td>\n",
       "      <td>4260.617470</td>\n",
       "    </tr>\n",
       "  </tbody>\n",
       "</table>\n",
       "<p>87864 rows × 9 columns</p>\n",
       "</div>"
      ],
      "text/plain": [
       "      Item_ID     Item_W      Item_Type    Item_MRP Outlet_ID  Outlet_Year  \\\n",
       "0       FDU32  21.027499   Baking Goods  197.352319    OUT046         2004   \n",
       "1       NCT54  21.102371           Meat  148.250214    OUT035         1987   \n",
       "2       FDW08  20.882263    Hard Drinks  205.465010    OUT035         1999   \n",
       "3       FDJ22  21.050435  Starchy Foods  253.417583    OUT046         1996   \n",
       "4       FDF47  21.247876   Baking Goods  240.871039    OUT035         1988   \n",
       "...       ...        ...            ...         ...       ...          ...   \n",
       "87859   FDG24   9.994412      Breakfast  147.389893    OUT035         1987   \n",
       "87860   FDA32  11.259252         Canned  127.965666    OUT049         1987   \n",
       "87861   FDM04  11.385812      Household  119.028901    OUT018         1997   \n",
       "87862   NCS18  18.018028      Household  223.416318    OUT018         1988   \n",
       "87863   FDQ11  17.130290    Snack Foods  143.232048    OUT013         1997   \n",
       "\n",
       "      Outlet_Size Outlet_Location_Type        Sales  \n",
       "0           Small               Tier 2  2689.457781  \n",
       "1           Small               Tier 1  3437.350375  \n",
       "2           Small               Tier 3  3129.967268  \n",
       "3           Small               Tier 1  1306.514376  \n",
       "4           Small               Tier 3  1739.769829  \n",
       "...           ...                  ...          ...  \n",
       "87859      Medium               Tier 3  4975.646052  \n",
       "87860      Medium               Tier 2  2252.492755  \n",
       "87861      Medium               Tier 1  2716.058050  \n",
       "87862      Medium               Tier 3   991.857233  \n",
       "87863      Medium               Tier 3  4260.617470  \n",
       "\n",
       "[87864 rows x 9 columns]"
      ]
     },
     "execution_count": 3,
     "metadata": {},
     "output_type": "execute_result"
    }
   ],
   "source": [
    "train"
   ]
  },
  {
   "cell_type": "code",
   "execution_count": 18,
   "id": "e77d64ca",
   "metadata": {},
   "outputs": [
    {
     "data": {
      "text/plain": [
       "<AxesSubplot:>"
      ]
     },
     "execution_count": 18,
     "metadata": {},
     "output_type": "execute_result"
    },
    {
     "data": {
      "image/png": "[encoded data removed]",
      "text/plain": [
       "<Figure size 432x288 with 1 Axes>"
      ]
     },
     "metadata": {
      "needs_background": "light"
     },
     "output_type": "display_data"
    }
   ],
   "source": [
    "train['Outlet_Year'].value_counts().plot(kind='barh')"
   ]
  },
  {
   "cell_type": "code",
   "execution_count": 19,
   "id": "cb7a3de2",
   "metadata": {},
   "outputs": [
    {
     "data": {
      "text/plain": [
       "<AxesSubplot:>"
      ]
     },
     "execution_count": 19,
     "metadata": {},
     "output_type": "execute_result"
    },
    {
     "data": {
      "image/png": "[encoded data removed]",
      "text/plain": [
       "<Figure size 432x288 with 1 Axes>"
      ]
     },
     "metadata": {
      "needs_background": "light"
     },
     "output_type": "display_data"
    }
   ],
   "source": [
    "test['Outlet_Year'].value_counts().plot(kind='barh')"
   ]
  },
  {
   "cell_type": "code",
   "execution_count": null,
   "id": "847af1a1",
   "metadata": {},
   "outputs": [],
   "source": []
  },
  {
   "cell_type": "code",
   "execution_count": null,
   "id": "9d6c217e",
   "metadata": {},
   "outputs": [],
   "source": []
  },
  {
   "cell_type": "code",
   "execution_count": 6,
   "id": "e80c695e",
   "metadata": {},
   "outputs": [
    {
     "data": {
      "text/plain": [
       "array(['Small', 'Medium', 'High'], dtype=object)"
      ]
     },
     "execution_count": 6,
     "metadata": {},
     "output_type": "execute_result"
    }
   ],
   "source": [
    "train['Outlet_Size'].unique()"
   ]
  },
  {
   "cell_type": "code",
   "execution_count": 7,
   "id": "4d9e23b9",
   "metadata": {},
   "outputs": [
    {
     "data": {
      "text/plain": [
       "array(['Tier 2', 'Tier 1', 'Tier 3'], dtype=object)"
      ]
     },
     "execution_count": 7,
     "metadata": {},
     "output_type": "execute_result"
    }
   ],
   "source": [
    "train['Outlet_Location_Type'].unique()"
   ]
  },
  {
   "cell_type": "code",
   "execution_count": 8,
   "id": "fe4bcfb4",
   "metadata": {},
   "outputs": [
    {
     "data": {
      "text/plain": [
       "array(['Baking Goods', 'Meat', 'Hard Drinks', 'Starchy Foods', 'Breads',\n",
       "       'Others', 'Seafood', 'Fruits and Vegetables', 'Soft Drinks',\n",
       "       'Household', 'Snack Foods', 'Frozen Foods', 'Health and Hygiene',\n",
       "       'Canned', 'Dairy', 'Breakfast'], dtype=object)"
      ]
     },
     "execution_count": 8,
     "metadata": {},
     "output_type": "execute_result"
    }
   ],
   "source": [
    "train['Item_Type'].unique()"
   ]
  },
  {
   "cell_type": "code",
   "execution_count": 9,
   "id": "1bc95014",
   "metadata": {},
   "outputs": [
    {
     "data": {
      "text/plain": [
       "array(['FDU32', 'NCT54', 'FDW08', 'FDJ22', 'FDF47', 'DRK12', 'FDA32',\n",
       "       'FDH24', 'FDW03', 'FDE11', 'FDQ40', 'FDF56', 'FDC58', 'FDG32',\n",
       "       'FDS55', 'FDN46', 'NCY17', 'FDP40', 'FDS35', 'FDY40', 'DRL01',\n",
       "       'FDY27', 'FDW28', 'FDX09', 'NCI54', 'FDR34', 'FDF08', 'NCK05',\n",
       "       'FDG21', 'FDT34', 'DRI47', 'FDQ21', 'FDO32', 'FDJ04', 'NCT41',\n",
       "       'FDM08', 'FDN21', 'FDQ31', 'FDS04', 'FDS34', 'FDK60', 'FDZ49',\n",
       "       'FDA43', 'DRJ51', 'NCL05', 'NCA17', 'FDL38', 'FDS16', 'FDC41',\n",
       "       'FDU55', 'DRF25', 'NCB31', 'FDO09', 'FDP25', 'FDE14', 'NCG42',\n",
       "       'FDD40', 'FDX36', 'FDU12', 'FDM04', 'FDV26', 'FDL50', 'FDJ60',\n",
       "       'DRF01', 'FDE41', 'FDW52', 'NCL31', 'FDC35', 'FDZ45', 'FDZ58',\n",
       "       'DRD25', 'FDS49', 'FDQ23', 'NCW54', 'FDI19', 'FDX23', 'FDL25',\n",
       "       'DRL11', 'FDX45', 'FDP52', 'FDD21', 'NCO41', 'NCJ54', 'NCP17',\n",
       "       'FDR35', 'FDP16', 'FDI07', 'FDL44', 'FDH60', 'FDV55', 'FDD52',\n",
       "       'DRK49', 'FDI15', 'FDR26', 'DRN47', 'DRF49', 'FDI14', 'FDB23',\n",
       "       'FDW48', 'NCR05', 'NCV41', 'FDN13', 'NCN17', 'FDF52', 'FDT31',\n",
       "       'FDD47', 'FDA34', 'FDT43', 'FDT45', 'NCS53', 'FDU45', 'FDC17',\n",
       "       'FDU40', 'FDF39', 'NCC54', 'NCG07', 'FDH47', 'FDH05', 'FDS56',\n",
       "       'FDK58', 'DRM11', 'DRD24', 'FDH33', 'FDZ52', 'FDA21', 'NCS18',\n",
       "       'FDA40', 'FDS59', 'FDP10', 'FDO12', 'FDX59', 'FDA28', 'FDR27',\n",
       "       'FDO46', 'NCU17', 'FDU10', 'FDM51', 'FDT48', 'FDZ55', 'FDN56',\n",
       "       'NCR06', 'FDO24', 'DRA59', 'FDX13', 'NCN05', 'FDA04', 'FDO58',\n",
       "       'FDC22', 'FDX01', 'FDT25', 'FDF41', 'NCV17', 'FDH58', 'NCR30',\n",
       "       'NCS54', 'FDD51', 'FDX15', 'FDR28', 'NCY18', 'NCE07', 'NCH18',\n",
       "       'FDM27', 'FDQ13', 'FDQ58', 'FDD50', 'FDI26', 'FDD29', 'FDJ58',\n",
       "       'NCR50', 'FDW43', 'FDA26', 'FDZ36', 'NCX41', 'FDM01', 'FDZ59',\n",
       "       'FDM25', 'FDO28', 'NCV53', 'FDE51', 'FDQ11', 'NCN07', 'FDB58',\n",
       "       'NCZ53', 'FDR21', 'NCV54', 'NCT06', 'NCO30', 'FDS31', 'FDO16',\n",
       "       'FDH45', 'FDC29', 'FDN50', 'FDZ12', 'FDZ13', 'FDO31', 'NCC06',\n",
       "       'NCC42', 'FDD57', 'FDW57', 'FDV14', 'FDR08', 'FDG09', 'NCF19',\n",
       "       'FDS14', 'FDQ39', 'FDK10', 'FDK20', 'FDS57', 'FDH46', 'FDB09',\n",
       "       'DRA24', 'NCE18', 'FDB03', 'FDJ50', 'FDI24', 'DRF51', 'FDJ21',\n",
       "       'FDW09', 'FDJ34', 'FDC08', 'NCG06', 'NCW06', 'FDB51', 'FDY13',\n",
       "       'FDM50', 'NCC19', 'FDH53', 'FDN49', 'NCO06', 'FDJ38', 'FDO20',\n",
       "       'FDY49', 'NCA29', 'FDR01', 'FDN25', 'FDI35', 'FDU33', 'FDT24',\n",
       "       'FDK45', 'FDP34', 'DRM23', 'FDN28', 'NCA05', 'FDX02', 'DRQ35',\n",
       "       'FDR44', 'NCH42', 'FDI21', 'DRF13', 'FDG35', 'FDB08', 'FDJ57',\n",
       "       'FDY31', 'FDC59', 'FDX35', 'FDT21', 'FDC16', 'FDO27', 'DRH23',\n",
       "       'NCM41', 'FDX57', 'FDL27', 'FDI53', 'FDF53', 'FDD36', 'FDG52',\n",
       "       'DRK11', 'FDL56', 'NCW41', 'FDL36', 'FDY51', 'FDE23', 'FDX47',\n",
       "       'NCX29', 'FDD23', 'DRJ13', 'FDA49', 'FDX33', 'NCL18', 'FDH26',\n",
       "       'FDK52', 'FDB38', 'NCR41', 'FDC46', 'FDG58', 'NCJ18', 'FDN58',\n",
       "       'FDY59', 'DRJ47', 'NCZ18', 'FDX19', 'FDO22', 'NCP05', 'FDH10',\n",
       "       'FDQ46', 'NCZ41', 'FDU49', 'NCT42', 'FDZ20', 'FDN23', 'FDW14',\n",
       "       'FDR22', 'FDG47', 'DRE12', 'FDI04', 'FDP33', 'FDV16', 'DRC12',\n",
       "       'NCL19', 'NCA30', 'NCB18', 'FDA39', 'NCI42', 'FDQ37', 'FDD02',\n",
       "       'FDS11', 'DRA12', 'FDQ34', 'DRH03', 'FDD05', 'NCC30', 'DRC25',\n",
       "       'NCO53', 'FDN02', 'NCU42', 'FDR10', 'FDO50', 'FDT15', 'NCC07',\n",
       "       'FDD08', 'NCK53', 'FDP49', 'FDW46', 'FDH17', 'NCX54', 'FDP03',\n",
       "       'DRJ01', 'NCG54', 'FDK21', 'NCJ19', 'FDP31', 'FDA45', 'FDN32',\n",
       "       'FDA13', 'FDJ52', 'FDV46', 'FDY55', 'FDX27', 'DRF03', 'FDH28',\n",
       "       'FDQ44', 'FDS52', 'FDX55', 'FDC44', 'FDV19', 'FDG50', 'FDN60',\n",
       "       'FDK38', 'FDG33', 'FDO52', 'FDD45', 'FDP48', 'NCC18', 'FDY14',\n",
       "       'FDU39', 'FDW50', 'DRH51', 'NCN43', 'FDS28', 'FDW35', 'NCM30',\n",
       "       'NCN18', 'FDY01', 'FDS27', 'NCK18', 'DRM37', 'FDT39', 'FDA58',\n",
       "       'NCA06', 'FDO19', 'FDX31', 'FDP60', 'FDZ43', 'FDI40', 'FDU24',\n",
       "       'DRI49', 'FDP46', 'NCI29', 'FDJ26', 'FDI50', 'FDG26', 'FDY47',\n",
       "       'FDA50', 'FDZ21', 'FDZ23', 'FDX44', 'DRE48', 'FDG24', 'FDI60',\n",
       "       'FDZ09', 'FDR48', 'DRK39', 'FDH08', 'FDC56', 'NCW53', 'FDY19',\n",
       "       'FDI33', 'NCX05', 'FDH38', 'FDL43', 'FDX38', 'FDL13', 'NCJ05',\n",
       "       'FDC33', 'NCU54', 'FDY25', 'FDV38', 'FDL22', 'FDS02', 'FDH44',\n",
       "       'FDA03', 'FDY37', 'NCJ29', 'FDC09', 'FDT36', 'NCO54', 'FDV52',\n",
       "       'DRL23', 'FDU15', 'NCE19', 'NCE31', 'FDH35', 'FDL10', 'FDC03',\n",
       "       'FDE46', 'FDL14', 'FDL57', 'DRD37', 'FDZ33', 'FDF04', 'FDE17',\n",
       "       'FDF35', 'FDF05', 'NCY06', 'FDO39', 'FDT07', 'NCR38', 'NCB43',\n",
       "       'NCN30', 'FDW23', 'NCO43', 'NCB30', 'FDU36', 'DRB13', 'NCO02',\n",
       "       'FDS33', 'FDY48', 'FDS01', 'FDQ59', 'FDV25', 'FDV45', 'FDM44',\n",
       "       'FDL34', 'FDB52', 'FDP39', 'FDF38', 'DRZ11', 'FDW12', 'FDB15',\n",
       "       'DRO47', 'FDY07', 'NCY29', 'FDB16', 'FDD34', 'FDA25', 'NCM07',\n",
       "       'DRM47', 'FDA02', 'FDN12', 'FDA51', 'FDL12', 'FDV57', 'FDR31',\n",
       "       'FDX34', 'NCM55', 'NCK19', 'NCS17', 'FDV34', 'FDG60', 'FDA44',\n",
       "       'FDM28', 'FDO48', 'FDP37', 'FDP08', 'FDO45', 'NCU18', 'FDG08',\n",
       "       'FDU07', 'DRL47', 'FDM20', 'FDB04', 'FDI08', 'DRF27', 'FDD58',\n",
       "       'FDH27', 'NCK29', 'NCP50', 'FDQ15', 'FDD56', 'NCP06', 'FDR12',\n",
       "       'FDY20', 'FDW13', 'FDY33', 'FDW11', 'NCK07', 'FDS40', 'FDT12',\n",
       "       'FDR04', 'DRL37', 'FDI05', 'FDB02', 'FDT59', 'NCO17', 'FDL21',\n",
       "       'FDM09', 'FDQ01', 'FDC45', 'FDZ26', 'DRM59', 'NCC43', 'FDL51',\n",
       "       'FDA27', 'FDE34', 'FDT19', 'FDM60', 'NCR18', 'NCZ42', 'FDG05',\n",
       "       'FDT51', 'DRB25', 'NCJ30', 'FDJ46', 'NCN53', 'FDX04', 'FDG31',\n",
       "       'FDS03', 'FDS60', 'NCN54', 'FDG59', 'NCI06', 'DRI11', 'FDB49',\n",
       "       'FDV28', 'FDP11', 'FDY12', 'FDG46', 'DRD01', 'FDC39', 'NCY30',\n",
       "       'FDZ31', 'FDN09', 'DRH37', 'FDQ25', 'FDF59', 'FDW27', 'FDZ15',\n",
       "       'DRG23', 'NCM05', 'FDS19', 'NCM43', 'DRM49', 'FDT32', 'FDQ27',\n",
       "       'NCP30', 'FDP44', 'FDI48', 'NCH07', 'FDI28', 'NCN14', 'FDB56',\n",
       "       'FDK08', 'FDP57', 'DRI03', 'DRG03', 'FDT52', 'FDY57', 'FDH57',\n",
       "       'FDT03', 'DRL49', 'FDY21', 'DRE25', 'FDB45', 'FDO37', 'NCP29',\n",
       "       'DRG37', 'NCL30', 'FDY15', 'FDV44', 'FDY35', 'FDH19', 'DRK47',\n",
       "       'FDV02', 'FDQ36', 'FDP22', 'NCF07', 'FDX20', 'FDF29', 'FDO60',\n",
       "       'NCT30', 'FDL08', 'FDV08', 'DRG25', 'FDX26', 'FDY52', 'NCS30',\n",
       "       'FDZ40', 'DRD60', 'DRG11', 'NCL53', 'FDH21', 'FDX03', 'FDF44',\n",
       "       'FDW58', 'FDK03', 'FDL16', 'FDV09', 'FDF45', 'FDP26', 'FDY11',\n",
       "       'FDM39', 'FDV39', 'FDQ32', 'FDK28', 'FDD09', 'FDR09', 'FDI34',\n",
       "       'FDB21', 'FDX16', 'FDZ08', 'FDV04', 'FDI57', 'FDF34', 'FDR02',\n",
       "       'NCQ18', 'FDM58', 'FDS25', 'NCB42', 'FDK40', 'FDR59', 'NCO29',\n",
       "       'NCP18', 'FDE59', 'FDZ27', 'FDC37', 'DRP47', 'FDS07', 'FDN27',\n",
       "       'NCY42', 'FDJ03', 'FDZ60', 'FDV47', 'FDW51', 'FDD17', 'DRJ24',\n",
       "       'FDS36', 'FDT46', 'FDM24', 'FDR15', 'NCF31', 'FDV32', 'FDS22',\n",
       "       'DRD27', 'FDG45', 'FDB10', 'FDQ52', 'FDT08', 'NCQ41', 'FDY22',\n",
       "       'FDL26', 'NCE42', 'FDA38', 'NCG30', 'DRJ39', 'FDX22', 'DRF23',\n",
       "       'DRN37', 'FDS45', 'FDM34', 'FDP07', 'FDI46', 'FDU59', 'FDW32',\n",
       "       'FDD22', 'NCN42', 'FDV60', 'NCE54', 'FDB39', 'FDU25', 'FDU58',\n",
       "       'FDO21', 'DRH36', 'NCG43', 'FDU26', 'NCX30', 'FDA23', 'FDR32',\n",
       "       'FDB12', 'FDK34', 'FDF57', 'FDZ28', 'FDC53', 'FDO10', 'DRF15',\n",
       "       'NCM31', 'FDE44', 'NCK30', 'FDV37', 'NCN55', 'FDS20', 'FDV20',\n",
       "       'DRG01', 'FDD14', 'FDU50', 'FDC57', 'FDY34', 'FDQ45', 'FDW16',\n",
       "       'FDW39', 'FDW26', 'FDB46', 'NCL55', 'FDS46', 'FDR58', 'FDF22',\n",
       "       'NCO42', 'FDI12', 'FDX39', 'DRE37', 'FDW40', 'FDB57', 'FDN03',\n",
       "       'FDA37', 'NCP54', 'FDB17', 'FDU34', 'NCS06', 'DRH39', 'NCQ06',\n",
       "       'FDM46', 'FDP32', 'FDL02', 'FDT49', 'FDR39', 'FDU13', 'FDJ40',\n",
       "       'DRN35', 'FDJ16', 'FDM32', 'FDE26', 'FDS12', 'FDL20', 'NCZ17',\n",
       "       'FDW33', 'DRJ25', 'FDX28', 'FDO56', 'NCQ53', 'NCM17', 'DRI23',\n",
       "       'FDH50', 'FDA07', 'FDF20', 'FDG10', 'FDE04', 'FDM14', 'NCK31',\n",
       "       'FDM45', 'FDL24', 'FDV51', 'NCP41', 'FDA52', 'NCZ29', 'NCX42',\n",
       "       'FDP23', 'FDG34', 'FDR37', 'FDH16', 'DRG51', 'FDV21', 'FDL15',\n",
       "       'FDZ46', 'FDQ20', 'FDR14', 'FDH32', 'FDR23', 'NCP02', 'FDM33',\n",
       "       'FDG38', 'FDD04', 'FDR33', 'FDJ48', 'FDZ47', 'NCS05', 'FDL03',\n",
       "       'DRH13', 'NCM29', 'FDV50', 'FDZ32', 'DRG15', 'DRO35', 'NCZ54',\n",
       "       'FDS47', 'FDN39', 'FDC34', 'NCW17', 'FDD33', 'FDA08', 'FDW19',\n",
       "       'DRJ49', 'NCY53', 'FDE10', 'FDX58', 'DRL60', 'NCD42', 'FDQ57',\n",
       "       'FDU19', 'FDT57', 'FDI44', 'FDZ10', 'FDV01', 'FDT26', 'FDU08',\n",
       "       'FDV15', 'FDR52', 'FDT58', 'FDW55', 'FDW25', 'FDQ08', 'FDX14',\n",
       "       'FDN38', 'FDX12', 'DRB24', 'DRE60', 'FDR16', 'NCE43', 'FDW22',\n",
       "       'FDC15', 'FDH31', 'FDF12', 'FDT02', 'DRH25', 'FDM38', 'FDN48',\n",
       "       'FDI41', 'FDI02', 'DRF37', 'NCL41', 'FDC14', 'FDF02', 'FDZ03',\n",
       "       'FDO51', 'FDT33', 'FDO34', 'FDZ56', 'FDB60', 'FDT16', 'FDD46',\n",
       "       'DRD13', 'FDT11', 'FDQ33', 'FDZ16', 'FDK02', 'NCG18', 'FDE57',\n",
       "       'FDS23', 'FDS43', 'FDT56', 'FDS58', 'DRC27', 'FDD41', 'FDY50',\n",
       "       'DRF60', 'FDB20', 'FDM57', 'FDQ47', 'FDD39', 'FDM15', 'FDT60',\n",
       "       'NCG55', 'FDB05', 'FDC32', 'NCM19', 'FDA22', 'FDM02'], dtype=object)"
      ]
     },
     "execution_count": 9,
     "metadata": {},
     "output_type": "execute_result"
    }
   ],
   "source": [
    "train['Item_ID'].unique()"
   ]
  },
  {
   "cell_type": "code",
   "execution_count": 10,
   "id": "8d9cc496",
   "metadata": {},
   "outputs": [
    {
     "data": {
      "text/plain": [
       "array(['OUT046', 'OUT035', 'OUT049', 'OUT018', 'OUT013'], dtype=object)"
      ]
     },
     "execution_count": 10,
     "metadata": {},
     "output_type": "execute_result"
    }
   ],
   "source": [
    "train['Outlet_ID'].unique()"
   ]
  },
  {
   "cell_type": "code",
   "execution_count": 11,
   "id": "3566ea16",
   "metadata": {},
   "outputs": [
    {
     "data": {
      "text/plain": [
       "Item_ID                 0\n",
       "Item_W                  0\n",
       "Item_Type               0\n",
       "Item_MRP                0\n",
       "Outlet_ID               0\n",
       "Outlet_Year             0\n",
       "Outlet_Size             0\n",
       "Outlet_Location_Type    0\n",
       "Sales                   0\n",
       "dtype: int64"
      ]
     },
     "execution_count": 11,
     "metadata": {},
     "output_type": "execute_result"
    }
   ],
   "source": [
    "train.isnull().sum()"
   ]
  },
  {
   "cell_type": "code",
   "execution_count": 22,
   "id": "e08f4bc7",
   "metadata": {},
   "outputs": [
    {
     "data": {
      "text/plain": [
       "<AxesSubplot:xlabel='Item_MRP', ylabel='Density'>"
      ]
     },
     "execution_count": 22,
     "metadata": {},
     "output_type": "execute_result"
    },
    {
     "data": {
      "image/png": "[encoded data removed]",
      "text/plain": [
       "<Figure size 432x288 with 1 Axes>"
      ]
     },
     "metadata": {
      "needs_background": "light"
     },
     "output_type": "display_data"
    }
   ],
   "source": [
    "a= np.log(train['Item_MRP']+1)\n",
    "sns.distplot(a)"
   ]
  },
  {
   "cell_type": "code",
   "execution_count": null,
   "id": "e7b1c34e",
   "metadata": {},
   "outputs": [],
   "source": []
  },
  {
   "cell_type": "code",
   "execution_count": 23,
   "id": "22daad83",
   "metadata": {},
   "outputs": [
    {
     "data": {
      "text/plain": [
       "<AxesSubplot:xlabel='Item_W', ylabel='Density'>"
      ]
     },
     "execution_count": 23,
     "metadata": {},
     "output_type": "execute_result"
    },
    {
     "data": {
      "image/png": "[encoded data removed]",
      "text/plain": [
       "<Figure size 432x288 with 1 Axes>"
      ]
     },
     "metadata": {
      "needs_background": "light"
     },
     "output_type": "display_data"
    }
   ],
   "source": [
    "a= np.log(train['Item_W']+1)\n",
    "sns.distplot(a)"
   ]
  },
  {
   "cell_type": "code",
   "execution_count": 24,
   "id": "b7baf77b",
   "metadata": {},
   "outputs": [
    {
     "data": {
      "text/plain": [
       "<AxesSubplot:xlabel='Item_W', ylabel='Density'>"
      ]
     },
     "execution_count": 24,
     "metadata": {},
     "output_type": "execute_result"
    },
    {
     "data": {
      "image/png": "[encoded data removed]",
      "text/plain": [
       "<Figure size 432x288 with 1 Axes>"
      ]
     },
     "metadata": {
      "needs_background": "light"
     },
     "output_type": "display_data"
    }
   ],
   "source": [
    "sns.distplot(train['Item_W'])"
   ]
  },
  {
   "cell_type": "code",
   "execution_count": 4,
   "id": "9275ae02",
   "metadata": {},
   "outputs": [
    {
     "data": {
      "text/plain": [
       "<AxesSubplot:xlabel='Sales', ylabel='Density'>"
      ]
     },
     "execution_count": 4,
     "metadata": {},
     "output_type": "execute_result"
    },
    {
     "data": {
      "image/png": "[encoded data removed]",
      "text/plain": [
       "<Figure size 432x288 with 1 Axes>"
      ]
     },
     "metadata": {
      "needs_background": "light"
     },
     "output_type": "display_data"
    }
   ],
   "source": [
    "sns.distplot(train['Sales'])"
   ]
  },
  {
   "cell_type": "code",
   "execution_count": 26,
   "id": "aa19d472",
   "metadata": {},
   "outputs": [
    {
     "data": {
      "text/plain": [
       "<AxesSubplot:>"
      ]
     },
     "execution_count": 26,
     "metadata": {},
     "output_type": "execute_result"
    },
    {
     "data": {
      "image/png": "[encoded data removed]",
      "text/plain": [
       "<Figure size 1080x720 with 2 Axes>"
      ]
     },
     "metadata": {
      "needs_background": "light"
     },
     "output_type": "display_data"
    }
   ],
   "source": [
    "corr = train.corr()\n",
    "plt.figure(figsize=(15,10))\n",
    "sns.heatmap(corr, annot = True, cmap=\"BuPu\")"
   ]
  },
  {
   "cell_type": "code",
   "execution_count": 29,
   "id": "0bc6a719",
   "metadata": {},
   "outputs": [
    {
     "data": {
      "text/plain": [
       "895"
      ]
     },
     "execution_count": 29,
     "metadata": {},
     "output_type": "execute_result"
    }
   ],
   "source": [
    "b=train['Item_ID'].value_counts()\n",
    "len(b)"
   ]
  },
  {
   "cell_type": "code",
   "execution_count": 30,
   "id": "1a657ede",
   "metadata": {},
   "outputs": [
    {
     "name": "stdout",
     "output_type": "stream",
     "text": [
      "<class 'pandas.core.frame.DataFrame'>\n",
      "RangeIndex: 87864 entries, 0 to 87863\n",
      "Data columns (total 9 columns):\n",
      " #   Column                Non-Null Count  Dtype  \n",
      "---  ------                --------------  -----  \n",
      " 0   Item_ID               87864 non-null  object \n",
      " 1   Item_W                87864 non-null  float64\n",
      " 2   Item_Type             87864 non-null  object \n",
      " 3   Item_MRP              87864 non-null  float64\n",
      " 4   Outlet_ID             87864 non-null  object \n",
      " 5   Outlet_Year           87864 non-null  int64  \n",
      " 6   Outlet_Size           87864 non-null  object \n",
      " 7   Outlet_Location_Type  87864 non-null  object \n",
      " 8   Sales                 87864 non-null  float64\n",
      "dtypes: float64(3), int64(1), object(5)\n",
      "memory usage: 6.0+ MB\n"
     ]
    }
   ],
   "source": [
    "train.info()"
   ]
  },
  {
   "cell_type": "code",
   "execution_count": 168,
   "id": "cdac516b",
   "metadata": {},
   "outputs": [],
   "source": [
    "\n",
    "cols = ['Item_ID',\"Item_Type\",\"Outlet_ID\",'Outlet_Size',\"Outlet_Location_Type\",'Outlet_Year']\n",
    "le = LabelEncoder()\n",
    "for col in cols:\n",
    "    X_train[col] = le.fit_transform(X_train[col])"
   ]
  },
  {
   "cell_type": "code",
   "execution_count": 169,
   "id": "cf0120ea",
   "metadata": {},
   "outputs": [],
   "source": [
    "sts = MaxAbsScaler()"
   ]
  },
  {
   "cell_type": "code",
   "execution_count": 170,
   "id": "7536d650",
   "metadata": {},
   "outputs": [],
   "source": [
    "feature_scale = ['Item_W','Item_MRP']\n",
    "X_train[feature_scale]=sts.fit_transform(X_train[feature_scale])"
   ]
  },
  {
   "cell_type": "code",
   "execution_count": 171,
   "id": "c87a7c75",
   "metadata": {},
   "outputs": [],
   "source": [
    "cols = ['Item_ID',\"Item_Type\",\"Outlet_ID\",'Outlet_Size',\"Outlet_Location_Type\",'Outlet_Year']\n",
    "le = LabelEncoder()\n",
    "for col in cols:\n",
    "    X_valid[col] = le.fit_transform(X_valid[col])"
   ]
  },
  {
   "cell_type": "code",
   "execution_count": 172,
   "id": "27f9ac6b",
   "metadata": {},
   "outputs": [],
   "source": [
    "sts = MaxAbsScaler()"
   ]
  },
  {
   "cell_type": "code",
   "execution_count": 173,
   "id": "4509e6d6",
   "metadata": {},
   "outputs": [],
   "source": [
    "feature_scale = ['Item_W','Item_MRP']\n",
    "X_valid[feature_scale]=sts.fit_transform(X_valid[feature_scale])"
   ]
  },
  {
   "cell_type": "code",
   "execution_count": 158,
   "id": "89ae856c",
   "metadata": {},
   "outputs": [
    {
     "data": {
      "text/html": [
       "<div>\n",
       "<style scoped>\n",
       "    .dataframe tbody tr th:only-of-type {\n",
       "        vertical-align: middle;\n",
       "    }\n",
       "\n",
       "    .dataframe tbody tr th {\n",
       "        vertical-align: top;\n",
       "    }\n",
       "\n",
       "    .dataframe thead th {\n",
       "        text-align: right;\n",
       "    }\n",
       "</style>\n",
       "<table border=\"1\" class=\"dataframe\">\n",
       "  <thead>\n",
       "    <tr style=\"text-align: right;\">\n",
       "      <th></th>\n",
       "      <th>Item_ID</th>\n",
       "      <th>Item_W</th>\n",
       "      <th>Item_Type</th>\n",
       "      <th>Item_MRP</th>\n",
       "      <th>Outlet_ID</th>\n",
       "      <th>Outlet_Year</th>\n",
       "      <th>Outlet_Size</th>\n",
       "      <th>Outlet_Location_Type</th>\n",
       "    </tr>\n",
       "  </thead>\n",
       "  <tbody>\n",
       "    <tr>\n",
       "      <th>0</th>\n",
       "      <td>73</td>\n",
       "      <td>0.477964</td>\n",
       "      <td>13</td>\n",
       "      <td>0.449904</td>\n",
       "      <td>0</td>\n",
       "      <td>5</td>\n",
       "      <td>0</td>\n",
       "      <td>2</td>\n",
       "    </tr>\n",
       "    <tr>\n",
       "      <th>1</th>\n",
       "      <td>237</td>\n",
       "      <td>0.491032</td>\n",
       "      <td>9</td>\n",
       "      <td>0.993928</td>\n",
       "      <td>1</td>\n",
       "      <td>0</td>\n",
       "      <td>0</td>\n",
       "      <td>2</td>\n",
       "    </tr>\n",
       "    <tr>\n",
       "      <th>2</th>\n",
       "      <td>376</td>\n",
       "      <td>0.562522</td>\n",
       "      <td>8</td>\n",
       "      <td>0.928646</td>\n",
       "      <td>1</td>\n",
       "      <td>3</td>\n",
       "      <td>0</td>\n",
       "      <td>0</td>\n",
       "    </tr>\n",
       "    <tr>\n",
       "      <th>3</th>\n",
       "      <td>709</td>\n",
       "      <td>0.703461</td>\n",
       "      <td>4</td>\n",
       "      <td>0.513556</td>\n",
       "      <td>3</td>\n",
       "      <td>7</td>\n",
       "      <td>1</td>\n",
       "      <td>1</td>\n",
       "    </tr>\n",
       "    <tr>\n",
       "      <th>4</th>\n",
       "      <td>143</td>\n",
       "      <td>0.521414</td>\n",
       "      <td>3</td>\n",
       "      <td>0.652861</td>\n",
       "      <td>1</td>\n",
       "      <td>11</td>\n",
       "      <td>1</td>\n",
       "      <td>2</td>\n",
       "    </tr>\n",
       "    <tr>\n",
       "      <th>...</th>\n",
       "      <td>...</td>\n",
       "      <td>...</td>\n",
       "      <td>...</td>\n",
       "      <td>...</td>\n",
       "      <td>...</td>\n",
       "      <td>...</td>\n",
       "      <td>...</td>\n",
       "      <td>...</td>\n",
       "    </tr>\n",
       "    <tr>\n",
       "      <th>37651</th>\n",
       "      <td>683</td>\n",
       "      <td>0.300235</td>\n",
       "      <td>4</td>\n",
       "      <td>0.672425</td>\n",
       "      <td>1</td>\n",
       "      <td>11</td>\n",
       "      <td>1</td>\n",
       "      <td>2</td>\n",
       "    </tr>\n",
       "    <tr>\n",
       "      <th>37652</th>\n",
       "      <td>316</td>\n",
       "      <td>0.312941</td>\n",
       "      <td>3</td>\n",
       "      <td>0.565865</td>\n",
       "      <td>1</td>\n",
       "      <td>11</td>\n",
       "      <td>1</td>\n",
       "      <td>2</td>\n",
       "    </tr>\n",
       "    <tr>\n",
       "      <th>37653</th>\n",
       "      <td>21</td>\n",
       "      <td>0.266118</td>\n",
       "      <td>14</td>\n",
       "      <td>0.556200</td>\n",
       "      <td>3</td>\n",
       "      <td>3</td>\n",
       "      <td>2</td>\n",
       "      <td>0</td>\n",
       "    </tr>\n",
       "    <tr>\n",
       "      <th>37654</th>\n",
       "      <td>492</td>\n",
       "      <td>0.314118</td>\n",
       "      <td>13</td>\n",
       "      <td>0.350462</td>\n",
       "      <td>1</td>\n",
       "      <td>11</td>\n",
       "      <td>1</td>\n",
       "      <td>2</td>\n",
       "    </tr>\n",
       "    <tr>\n",
       "      <th>37655</th>\n",
       "      <td>511</td>\n",
       "      <td>0.313882</td>\n",
       "      <td>13</td>\n",
       "      <td>0.341432</td>\n",
       "      <td>1</td>\n",
       "      <td>11</td>\n",
       "      <td>1</td>\n",
       "      <td>2</td>\n",
       "    </tr>\n",
       "  </tbody>\n",
       "</table>\n",
       "<p>37656 rows × 8 columns</p>\n",
       "</div>"
      ],
      "text/plain": [
       "       Item_ID    Item_W  Item_Type  Item_MRP  Outlet_ID  Outlet_Year  \\\n",
       "0           73  0.477964         13  0.449904          0            5   \n",
       "1          237  0.491032          9  0.993928          1            0   \n",
       "2          376  0.562522          8  0.928646          1            3   \n",
       "3          709  0.703461          4  0.513556          3            7   \n",
       "4          143  0.521414          3  0.652861          1           11   \n",
       "...        ...       ...        ...       ...        ...          ...   \n",
       "37651      683  0.300235          4  0.672425          1           11   \n",
       "37652      316  0.312941          3  0.565865          1           11   \n",
       "37653       21  0.266118         14  0.556200          3            3   \n",
       "37654      492  0.314118         13  0.350462          1           11   \n",
       "37655      511  0.313882         13  0.341432          1           11   \n",
       "\n",
       "       Outlet_Size  Outlet_Location_Type  \n",
       "0                0                     2  \n",
       "1                0                     2  \n",
       "2                0                     0  \n",
       "3                1                     1  \n",
       "4                1                     2  \n",
       "...            ...                   ...  \n",
       "37651            1                     2  \n",
       "37652            1                     2  \n",
       "37653            2                     0  \n",
       "37654            1                     2  \n",
       "37655            1                     2  \n",
       "\n",
       "[37656 rows x 8 columns]"
      ]
     },
     "execution_count": 158,
     "metadata": {},
     "output_type": "execute_result"
    }
   ],
   "source": [
    "test"
   ]
  },
  {
   "cell_type": "code",
   "execution_count": 197,
   "id": "33b4ee9d",
   "metadata": {},
   "outputs": [
    {
     "data": {
      "text/html": [
       "<div>\n",
       "<style scoped>\n",
       "    .dataframe tbody tr th:only-of-type {\n",
       "        vertical-align: middle;\n",
       "    }\n",
       "\n",
       "    .dataframe tbody tr th {\n",
       "        vertical-align: top;\n",
       "    }\n",
       "\n",
       "    .dataframe thead th {\n",
       "        text-align: right;\n",
       "    }\n",
       "</style>\n",
       "<table border=\"1\" class=\"dataframe\">\n",
       "  <thead>\n",
       "    <tr style=\"text-align: right;\">\n",
       "      <th></th>\n",
       "      <th>Item_ID</th>\n",
       "      <th>Item_W</th>\n",
       "      <th>Item_Type</th>\n",
       "      <th>Item_MRP</th>\n",
       "      <th>Outlet_ID</th>\n",
       "      <th>Outlet_Year</th>\n",
       "      <th>Outlet_Size</th>\n",
       "      <th>Outlet_Location_Type</th>\n",
       "    </tr>\n",
       "  </thead>\n",
       "  <tbody>\n",
       "    <tr>\n",
       "      <th>29481</th>\n",
       "      <td>663</td>\n",
       "      <td>0.717797</td>\n",
       "      <td>0</td>\n",
       "      <td>0.429671</td>\n",
       "      <td>2</td>\n",
       "      <td>4</td>\n",
       "      <td>2</td>\n",
       "      <td>2</td>\n",
       "    </tr>\n",
       "    <tr>\n",
       "      <th>66614</th>\n",
       "      <td>117</td>\n",
       "      <td>0.905159</td>\n",
       "      <td>9</td>\n",
       "      <td>0.209715</td>\n",
       "      <td>0</td>\n",
       "      <td>0</td>\n",
       "      <td>1</td>\n",
       "      <td>2</td>\n",
       "    </tr>\n",
       "    <tr>\n",
       "      <th>57302</th>\n",
       "      <td>657</td>\n",
       "      <td>0.506191</td>\n",
       "      <td>6</td>\n",
       "      <td>0.910297</td>\n",
       "      <td>4</td>\n",
       "      <td>11</td>\n",
       "      <td>1</td>\n",
       "      <td>2</td>\n",
       "    </tr>\n",
       "    <tr>\n",
       "      <th>70114</th>\n",
       "      <td>86</td>\n",
       "      <td>0.520883</td>\n",
       "      <td>3</td>\n",
       "      <td>0.623385</td>\n",
       "      <td>2</td>\n",
       "      <td>8</td>\n",
       "      <td>2</td>\n",
       "      <td>1</td>\n",
       "    </tr>\n",
       "    <tr>\n",
       "      <th>56006</th>\n",
       "      <td>146</td>\n",
       "      <td>0.660106</td>\n",
       "      <td>6</td>\n",
       "      <td>0.449082</td>\n",
       "      <td>4</td>\n",
       "      <td>7</td>\n",
       "      <td>1</td>\n",
       "      <td>2</td>\n",
       "    </tr>\n",
       "    <tr>\n",
       "      <th>...</th>\n",
       "      <td>...</td>\n",
       "      <td>...</td>\n",
       "      <td>...</td>\n",
       "      <td>...</td>\n",
       "      <td>...</td>\n",
       "      <td>...</td>\n",
       "      <td>...</td>\n",
       "      <td>...</td>\n",
       "    </tr>\n",
       "    <tr>\n",
       "      <th>8038</th>\n",
       "      <td>19</td>\n",
       "      <td>0.948948</td>\n",
       "      <td>11</td>\n",
       "      <td>0.241739</td>\n",
       "      <td>2</td>\n",
       "      <td>3</td>\n",
       "      <td>1</td>\n",
       "      <td>0</td>\n",
       "    </tr>\n",
       "    <tr>\n",
       "      <th>29824</th>\n",
       "      <td>254</td>\n",
       "      <td>0.487661</td>\n",
       "      <td>0</td>\n",
       "      <td>0.552346</td>\n",
       "      <td>3</td>\n",
       "      <td>2</td>\n",
       "      <td>2</td>\n",
       "      <td>1</td>\n",
       "    </tr>\n",
       "    <tr>\n",
       "      <th>54386</th>\n",
       "      <td>506</td>\n",
       "      <td>0.546658</td>\n",
       "      <td>6</td>\n",
       "      <td>0.450694</td>\n",
       "      <td>4</td>\n",
       "      <td>7</td>\n",
       "      <td>0</td>\n",
       "      <td>0</td>\n",
       "    </tr>\n",
       "    <tr>\n",
       "      <th>74621</th>\n",
       "      <td>373</td>\n",
       "      <td>0.522753</td>\n",
       "      <td>13</td>\n",
       "      <td>0.605350</td>\n",
       "      <td>3</td>\n",
       "      <td>0</td>\n",
       "      <td>2</td>\n",
       "      <td>0</td>\n",
       "    </tr>\n",
       "    <tr>\n",
       "      <th>85206</th>\n",
       "      <td>640</td>\n",
       "      <td>0.577457</td>\n",
       "      <td>9</td>\n",
       "      <td>0.445002</td>\n",
       "      <td>3</td>\n",
       "      <td>0</td>\n",
       "      <td>1</td>\n",
       "      <td>0</td>\n",
       "    </tr>\n",
       "  </tbody>\n",
       "</table>\n",
       "<p>58868 rows × 8 columns</p>\n",
       "</div>"
      ],
      "text/plain": [
       "       Item_ID    Item_W  Item_Type  Item_MRP  Outlet_ID  Outlet_Year  \\\n",
       "29481      663  0.717797          0  0.429671          2            4   \n",
       "66614      117  0.905159          9  0.209715          0            0   \n",
       "57302      657  0.506191          6  0.910297          4           11   \n",
       "70114       86  0.520883          3  0.623385          2            8   \n",
       "56006      146  0.660106          6  0.449082          4            7   \n",
       "...        ...       ...        ...       ...        ...          ...   \n",
       "8038        19  0.948948         11  0.241739          2            3   \n",
       "29824      254  0.487661          0  0.552346          3            2   \n",
       "54386      506  0.546658          6  0.450694          4            7   \n",
       "74621      373  0.522753         13  0.605350          3            0   \n",
       "85206      640  0.577457          9  0.445002          3            0   \n",
       "\n",
       "       Outlet_Size  Outlet_Location_Type  \n",
       "29481            2                     2  \n",
       "66614            1                     2  \n",
       "57302            1                     2  \n",
       "70114            2                     1  \n",
       "56006            1                     2  \n",
       "...            ...                   ...  \n",
       "8038             1                     0  \n",
       "29824            2                     1  \n",
       "54386            0                     0  \n",
       "74621            2                     0  \n",
       "85206            1                     0  \n",
       "\n",
       "[58868 rows x 8 columns]"
      ]
     },
     "execution_count": 197,
     "metadata": {},
     "output_type": "execute_result"
    }
   ],
   "source": [
    "X_train"
   ]
  },
  {
   "cell_type": "code",
   "execution_count": null,
   "id": "1d2ba72e",
   "metadata": {},
   "outputs": [],
   "source": []
  },
  {
   "cell_type": "code",
   "execution_count": 150,
   "id": "f3b3e565",
   "metadata": {},
   "outputs": [
    {
     "data": {
      "text/html": [
       "<table>\n",
       "<thead>\n",
       "<tr><th>Item_ID  </th><th style=\"text-align: right;\">  Item_W</th><th>Item_Type    </th><th style=\"text-align: right;\">  Item_MRP</th><th>Outlet_ID  </th><th style=\"text-align: right;\">  Outlet_Year</th><th>Outlet_Size  </th><th>Outlet_Location_Type  </th><th style=\"text-align: right;\">   Sales</th></tr>\n",
       "</thead>\n",
       "<tbody>\n",
       "<tr><td>FDU32    </td><td style=\"text-align: right;\"> 21.0275</td><td>Baking Goods </td><td style=\"text-align: right;\">   197.352</td><td>OUT046     </td><td style=\"text-align: right;\">         2004</td><td>Small        </td><td>Tier 2                </td><td style=\"text-align: right;\">2689.46 </td></tr>\n",
       "<tr><td>NCT54    </td><td style=\"text-align: right;\"> 21.1024</td><td>Meat         </td><td style=\"text-align: right;\">   148.25 </td><td>OUT035     </td><td style=\"text-align: right;\">         1987</td><td>Small        </td><td>Tier 1                </td><td style=\"text-align: right;\">3437.35 </td></tr>\n",
       "<tr><td>FDW08    </td><td style=\"text-align: right;\"> 20.8823</td><td>Hard Drinks  </td><td style=\"text-align: right;\">   205.465</td><td>OUT035     </td><td style=\"text-align: right;\">         1999</td><td>Small        </td><td>Tier 3                </td><td style=\"text-align: right;\">3129.97 </td></tr>\n",
       "<tr><td>FDJ22    </td><td style=\"text-align: right;\"> 21.0504</td><td>Starchy Foods</td><td style=\"text-align: right;\">   253.418</td><td>OUT046     </td><td style=\"text-align: right;\">         1996</td><td>Small        </td><td>Tier 1                </td><td style=\"text-align: right;\">1306.51 </td></tr>\n",
       "<tr><td>FDF47    </td><td style=\"text-align: right;\"> 21.2479</td><td>Baking Goods </td><td style=\"text-align: right;\">   240.871</td><td>OUT035     </td><td style=\"text-align: right;\">         1988</td><td>Small        </td><td>Tier 3                </td><td style=\"text-align: right;\">1739.77 </td></tr>\n",
       "<tr><td>DRK12    </td><td style=\"text-align: right;\"> 20.9564</td><td>Baking Goods </td><td style=\"text-align: right;\">   130.265</td><td>OUT049     </td><td style=\"text-align: right;\">         1999</td><td>Small        </td><td>Tier 1                </td><td style=\"text-align: right;\">1963.63 </td></tr>\n",
       "<tr><td>FDA32    </td><td style=\"text-align: right;\"> 21.1966</td><td>Breads       </td><td style=\"text-align: right;\">   239.26 </td><td>OUT035     </td><td style=\"text-align: right;\">         1999</td><td>Small        </td><td>Tier 2                </td><td style=\"text-align: right;\"> 581.888</td></tr>\n",
       "<tr><td>FDH24    </td><td style=\"text-align: right;\"> 20.9493</td><td>Hard Drinks  </td><td style=\"text-align: right;\">   167.267</td><td>OUT046     </td><td style=\"text-align: right;\">         1997</td><td>Small        </td><td>Tier 2                </td><td style=\"text-align: right;\"> 679.055</td></tr>\n",
       "<tr><td>FDW03    </td><td style=\"text-align: right;\"> 20.8848</td><td>Baking Goods </td><td style=\"text-align: right;\">   185.454</td><td>OUT049     </td><td style=\"text-align: right;\">         1997</td><td>Small        </td><td>Tier 1                </td><td style=\"text-align: right;\">1991.32 </td></tr>\n",
       "<tr><td>FDE11    </td><td style=\"text-align: right;\"> 21.1836</td><td>Others       </td><td style=\"text-align: right;\">   239.191</td><td>OUT018     </td><td style=\"text-align: right;\">         2009</td><td>Small        </td><td>Tier 1                </td><td style=\"text-align: right;\"> 730.149</td></tr>\n",
       "</tbody>\n",
       "</table>"
      ]
     },
     "metadata": {},
     "output_type": "display_data"
    },
    {
     "data": {
      "text/plain": []
     },
     "execution_count": 150,
     "metadata": {},
     "output_type": "execute_result"
    }
   ],
   "source": [
    "train"
   ]
  },
  {
   "cell_type": "code",
   "execution_count": 179,
   "id": "cc59b775",
   "metadata": {},
   "outputs": [],
   "source": [
    "from tensorflow.keras.models import Model, load_model\n",
    "from tensorflow.keras.layers import *\n",
    "from tensorflow.keras.utils import plot_model\n",
    "from tensorflow.keras import backend as K\n",
    "from tensorflow.keras.optimizers import Adam\n",
    "from tensorflow.keras.initializers import RandomUniform\n",
    "from tensorflow.keras.layers import Dense, BatchNormalization\n",
    "import matplotlib.pyplot as plt\n",
    "import tensorflow as tf\n",
    "import keras"
   ]
  },
  {
   "cell_type": "code",
   "execution_count": 194,
   "id": "0fab1af7",
   "metadata": {},
   "outputs": [],
   "source": [
    "y=pd.DataFrame(y)\n",
    "x=pd.DataFrame(x)\n"
   ]
  },
  {
   "cell_type": "code",
   "execution_count": null,
   "id": "22bd31cc",
   "metadata": {},
   "outputs": [],
   "source": []
  },
  {
   "cell_type": "code",
   "execution_count": null,
   "id": "f7a0e61a",
   "metadata": {},
   "outputs": [],
   "source": []
  },
  {
   "cell_type": "code",
   "execution_count": 205,
   "id": "1126a5c7",
   "metadata": {},
   "outputs": [
    {
     "name": "stdout",
     "output_type": "stream",
     "text": [
      "Building model starts.....\n",
      "Building model ends.....\n",
      "\n"
     ]
    }
   ],
   "source": [
    "print ('Building model starts.....')\n",
    "\n",
    "inputs = Input(shape=(1, 8))\n",
    "LSTM_1 =LSTM(6,activation='tanh', return_sequences=True, name = 'LSTM_1')(inputs)\n",
    "output = LSTM(1, activation='tanh', return_sequences=False, name = 'latent_data')(LSTM_1)\n",
    "\n",
    "\n",
    "autoencoder = Model(inputs= inputs,\n",
    "                    outputs = output)\n",
    "\n",
    "\n",
    "print ('Building model ends.....\\n')"
   ]
  },
  {
   "cell_type": "code",
   "execution_count": 206,
   "id": "82bde834",
   "metadata": {},
   "outputs": [
    {
     "name": "stdout",
     "output_type": "stream",
     "text": [
      "Model: \"model_4\"\n",
      "_________________________________________________________________\n",
      "Layer (type)                 Output Shape              Param #   \n",
      "=================================================================\n",
      "input_5 (InputLayer)         [(None, 1, 8)]            0         \n",
      "_________________________________________________________________\n",
      "LSTM_1 (LSTM)                (None, 1, 6)              360       \n",
      "_________________________________________________________________\n",
      "latent_data (LSTM)           (None, 1)                 32        \n",
      "=================================================================\n",
      "Total params: 392\n",
      "Trainable params: 392\n",
      "Non-trainable params: 0\n",
      "_________________________________________________________________\n"
     ]
    }
   ],
   "source": [
    "autoencoder.summary()"
   ]
  },
  {
   "cell_type": "code",
   "execution_count": 198,
   "id": "e82d2850",
   "metadata": {},
   "outputs": [],
   "source": [
    "X_train=X_train.to_numpy()\n",
    "X_train=X_train.reshape(58868,1,8)"
   ]
  },
  {
   "cell_type": "code",
   "execution_count": 199,
   "id": "1de26f97",
   "metadata": {},
   "outputs": [
    {
     "data": {
      "text/plain": [
       "(58868, 1, 8)"
      ]
     },
     "execution_count": 199,
     "metadata": {},
     "output_type": "execute_result"
    }
   ],
   "source": [
    "X_train.shape"
   ]
  },
  {
   "cell_type": "code",
   "execution_count": 207,
   "id": "911e11b2",
   "metadata": {},
   "outputs": [],
   "source": [
    "autoencoder.compile(optimizer = 'adam', loss = 'mse')"
   ]
  },
  {
   "cell_type": "code",
   "execution_count": 208,
   "id": "82ffffce",
   "metadata": {},
   "outputs": [
    {
     "name": "stdout",
     "output_type": "stream",
     "text": [
      "Fitting model starts.....\n"
     ]
    }
   ],
   "source": [
    "print ('Fitting model starts.....') \n",
    "keras.backend.set_value(autoencoder.optimizer.lr, 1e-5)"
   ]
  },
  {
   "cell_type": "code",
   "execution_count": 209,
   "id": "6e234fba",
   "metadata": {},
   "outputs": [
    {
     "name": "stdout",
     "output_type": "stream",
     "text": [
      "Epoch 1/20\n",
      "1656/1656 [==============================] - 4s 1ms/step - loss: 5358965.0000 - val_loss: 5265744.5000\n",
      "Epoch 2/20\n",
      "1656/1656 [==============================] - 2s 1ms/step - loss: 5358872.5000 - val_loss: 5265680.5000\n",
      "Epoch 3/20\n",
      "1656/1656 [==============================] - 2s 1ms/step - loss: 5358803.0000 - val_loss: 5265563.0000\n",
      "Epoch 4/20\n",
      "1656/1656 [==============================] - 2s 1ms/step - loss: 5358402.0000 - val_loss: 5265142.5000\n",
      "Epoch 5/20\n",
      "1656/1656 [==============================] - 2s 1ms/step - loss: 5358117.5000 - val_loss: 5264560.0000\n",
      "Epoch 6/20\n",
      "1656/1656 [==============================] - 2s 1ms/step - loss: 5357633.5000 - val_loss: 5264415.0000\n",
      "Epoch 7/20\n",
      "1656/1656 [==============================] - 2s 1ms/step - loss: 5357512.0000 - val_loss: 5264323.0000\n",
      "Epoch 8/20\n",
      "1656/1656 [==============================] - 2s 1ms/step - loss: 5357437.0000 - val_loss: 5264244.5000\n",
      "Epoch 9/20\n",
      "1656/1656 [==============================] - 2s 1ms/step - loss: 5357357.5000 - val_loss: 5264174.5000\n",
      "Epoch 10/20\n",
      "1656/1656 [==============================] - 2s 1ms/step - loss: 5357287.0000 - val_loss: 5264110.0000\n",
      "Epoch 11/20\n",
      "1656/1656 [==============================] - 2s 1ms/step - loss: 5357226.5000 - val_loss: 5264049.5000\n",
      "Epoch 12/20\n",
      "1656/1656 [==============================] - 2s 1ms/step - loss: 5357165.0000 - val_loss: 5263993.0000\n",
      "Epoch 13/20\n",
      "1656/1656 [==============================] - 2s 1ms/step - loss: 5357107.0000 - val_loss: 5263938.5000\n",
      "Epoch 14/20\n",
      "1656/1656 [==============================] - 2s 1ms/step - loss: 5357059.5000 - val_loss: 5263887.5000\n",
      "Epoch 15/20\n",
      "1656/1656 [==============================] - 2s 1ms/step - loss: 5357006.0000 - val_loss: 5263842.5000\n",
      "Epoch 16/20\n",
      "1656/1656 [==============================] - 2s 1ms/step - loss: 5356961.5000 - val_loss: 5263798.5000\n",
      "Epoch 17/20\n",
      "1656/1656 [==============================] - 2s 1ms/step - loss: 5356921.5000 - val_loss: 5263757.0000\n",
      "Epoch 18/20\n",
      "1656/1656 [==============================] - 2s 1ms/step - loss: 5356877.5000 - val_loss: 5263716.0000\n",
      "Epoch 19/20\n",
      "1656/1656 [==============================] - 2s 1ms/step - loss: 5356834.0000 - val_loss: 5263678.0000\n",
      "Epoch 20/20\n",
      "1656/1656 [==============================] - 2s 1ms/step - loss: 5356801.0000 - val_loss: 5263642.5000\n",
      "Fitting model ends.....\n",
      "\n"
     ]
    }
   ],
   "source": [
    "history = autoencoder.fit(x = X_train, \n",
    "                          y = y_train, \n",
    "                          epochs = 20, \n",
    "#                           batch_size=10,\n",
    "                          verbose=1,\n",
    "                          validation_split =0.1)\n",
    "print ('Fitting model ends.....\\n')"
   ]
  },
  {
   "cell_type": "code",
   "execution_count": null,
   "id": "0d9e6cd4",
   "metadata": {},
   "outputs": [],
   "source": []
  },
  {
   "cell_type": "code",
   "execution_count": 77,
   "id": "fb3019e6",
   "metadata": {},
   "outputs": [],
   "source": [
    "x=train.drop(['Sales'],axis=1)\n",
    "y=train['Sales']"
   ]
  },
  {
   "cell_type": "code",
   "execution_count": 90,
   "id": "4179067c",
   "metadata": {},
   "outputs": [],
   "source": [
    "model = DecisionTreeRegressor()\n",
    "regressor = RandomForestRegressor(n_estimators = 100, random_state = 0)"
   ]
  },
  {
   "cell_type": "code",
   "execution_count": 91,
   "id": "a8474635",
   "metadata": {},
   "outputs": [
    {
     "data": {
      "text/plain": [
       "DecisionTreeRegressor()"
      ]
     },
     "execution_count": 91,
     "metadata": {},
     "output_type": "execute_result"
    }
   ],
   "source": [
    "model.fit(X_train,y_train)"
   ]
  },
  {
   "cell_type": "code",
   "execution_count": 92,
   "id": "c2e3ef41",
   "metadata": {},
   "outputs": [
    {
     "data": {
      "text/plain": [
       "1.0"
      ]
     },
     "execution_count": 92,
     "metadata": {},
     "output_type": "execute_result"
    }
   ],
   "source": [
    "model.score(X_train,y_train)"
   ]
  },
  {
   "cell_type": "code",
   "execution_count": 93,
   "id": "b324e853",
   "metadata": {},
   "outputs": [
    {
     "data": {
      "text/plain": [
       "-1.052735356060309"
      ]
     },
     "execution_count": 93,
     "metadata": {},
     "output_type": "execute_result"
    }
   ],
   "source": [
    "model.score(X_valid,y_valid)"
   ]
  },
  {
   "cell_type": "code",
   "execution_count": null,
   "id": "74fa1ff0",
   "metadata": {},
   "outputs": [],
   "source": []
  },
  {
   "cell_type": "code",
   "execution_count": 94,
   "id": "f3c1653a",
   "metadata": {},
   "outputs": [],
   "source": [
    "def DistributionPlot(RedFunction, BlueFunction, RedName, BlueName, Title):\n",
    "    width = 12\n",
    "    height = 10\n",
    "    plt.figure(figsize=(width, height))\n",
    "\n",
    "    ax1 = sns.distplot(RedFunction, hist=False, color=\"r\", label=RedName)\n",
    "    ax2 = sns.distplot(BlueFunction, hist=False, color=\"b\", label=BlueName, ax=ax1)\n",
    "\n",
    "    plt.title(Title)\n",
    "    legend = plt.legend(loc = \"upper right\",fontsize = \"medium\")\n",
    "    plt.xlabel('no. of entries')\n",
    "    plt.ylabel('Loan sanctitioned USD')\n",
    "    \n",
    "    plt.show()\n",
    "    plt.close()"
   ]
  },
  {
   "cell_type": "code",
   "execution_count": 97,
   "id": "4cdbcda6",
   "metadata": {},
   "outputs": [],
   "source": [
    "y_predicted2=model.predict(X_valid)"
   ]
  },
  {
   "cell_type": "code",
   "execution_count": 98,
   "id": "700edfad",
   "metadata": {},
   "outputs": [
    {
     "data": {
      "image/png": "[encoded data removed]",
      "text/plain": [
       "<Figure size 864x720 with 1 Axes>"
      ]
     },
     "metadata": {
      "needs_background": "light"
     },
     "output_type": "display_data"
    }
   ],
   "source": [
    "Title = 'Distribution  Plot of  Predicted Value And Training Value Using Training Data Distribution'\n",
    "DistributionPlot(y_valid, y_predicted2, \"Actual Values (Train)\", \"Predicted Values (Train)\", Title)"
   ]
  },
  {
   "cell_type": "code",
   "execution_count": 103,
   "id": "6addd5b9",
   "metadata": {},
   "outputs": [
    {
     "name": "stdout",
     "output_type": "stream",
     "text": [
      "Checking whether there is an H2O instance running at http://localhost:54321 ..... not found.\n",
      "Attempting to start a local H2O server...\n",
      "; Java HotSpot(TM) 64-Bit Server VM (build 17.0.1+12-LTS-39, mixed mode, sharing)\n",
      "  Starting server from C:\\ProgramData\\Anaconda3\\Lib\\site-packages\\h2o\\backend\\bin\\h2o.jar\n",
      "  Ice root: C:\\Users\\Ayush\\AppData\\Local\\Temp\\tmphvr7wyfk\n",
      "  JVM stdout: C:\\Users\\Ayush\\AppData\\Local\\Temp\\tmphvr7wyfk\\h2o_Ayush_started_from_python.out\n",
      "  JVM stderr: C:\\Users\\Ayush\\AppData\\Local\\Temp\\tmphvr7wyfk\\h2o_Ayush_started_from_python.err\n",
      "  Server is running at http://127.0.0.1:54321\n",
      "Connecting to H2O server at http://127.0.0.1:54321 ... successful.\n"
     ]
    },
    {
     "data": {
      "text/html": [
       "<div style=\"overflow:auto\"><table style=\"width:50%\"><tr><td>H2O_cluster_uptime:</td>\n",
       "<td>02 secs</td></tr>\n",
       "<tr><td>H2O_cluster_timezone:</td>\n",
       "<td>Asia/Kolkata</td></tr>\n",
       "<tr><td>H2O_data_parsing_timezone:</td>\n",
       "<td>UTC</td></tr>\n",
       "<tr><td>H2O_cluster_version:</td>\n",
       "<td>3.34.0.3</td></tr>\n",
       "<tr><td>H2O_cluster_version_age:</td>\n",
       "<td>1 month </td></tr>\n",
       "<tr><td>H2O_cluster_name:</td>\n",
       "<td>H2O_from_python_Ayush_wi4uv5</td></tr>\n",
       "<tr><td>H2O_cluster_total_nodes:</td>\n",
       "<td>1</td></tr>\n",
       "<tr><td>H2O_cluster_free_memory:</td>\n",
       "<td>3.848 Gb</td></tr>\n",
       "<tr><td>H2O_cluster_total_cores:</td>\n",
       "<td>16</td></tr>\n",
       "<tr><td>H2O_cluster_allowed_cores:</td>\n",
       "<td>16</td></tr>\n",
       "<tr><td>H2O_cluster_status:</td>\n",
       "<td>locked, healthy</td></tr>\n",
       "<tr><td>H2O_connection_url:</td>\n",
       "<td>http://127.0.0.1:54321</td></tr>\n",
       "<tr><td>H2O_connection_proxy:</td>\n",
       "<td>{\"http\": null, \"https\": null}</td></tr>\n",
       "<tr><td>H2O_internal_security:</td>\n",
       "<td>False</td></tr>\n",
       "<tr><td>H2O_API_Extensions:</td>\n",
       "<td>Amazon S3, Algos, AutoML, Core V3, TargetEncoder, Core V4</td></tr>\n",
       "<tr><td>Python_version:</td>\n",
       "<td>3.8.8 final</td></tr></table></div>"
      ],
      "text/plain": [
       "--------------------------  ---------------------------------------------------------\n",
       "H2O_cluster_uptime:         02 secs\n",
       "H2O_cluster_timezone:       Asia/Kolkata\n",
       "H2O_data_parsing_timezone:  UTC\n",
       "H2O_cluster_version:        3.34.0.3\n",
       "H2O_cluster_version_age:    1 month\n",
       "H2O_cluster_name:           H2O_from_python_Ayush_wi4uv5\n",
       "H2O_cluster_total_nodes:    1\n",
       "H2O_cluster_free_memory:    3.848 Gb\n",
       "H2O_cluster_total_cores:    16\n",
       "H2O_cluster_allowed_cores:  16\n",
       "H2O_cluster_status:         locked, healthy\n",
       "H2O_connection_url:         http://127.0.0.1:54321\n",
       "H2O_connection_proxy:       {\"http\": null, \"https\": null}\n",
       "H2O_internal_security:      False\n",
       "H2O_API_Extensions:         Amazon S3, Algos, AutoML, Core V3, TargetEncoder, Core V4\n",
       "Python_version:             3.8.8 final\n",
       "--------------------------  ---------------------------------------------------------"
      ]
     },
     "metadata": {},
     "output_type": "display_data"
    }
   ],
   "source": [
    "import h2o\n",
    "from h2o.automl import H2OAutoML\n",
    "h2o.init()"
   ]
  },
  {
   "cell_type": "code",
   "execution_count": 104,
   "id": "dc250ed2",
   "metadata": {},
   "outputs": [],
   "source": [
    "data_path=r'train.csv'"
   ]
  },
  {
   "cell_type": "code",
   "execution_count": 105,
   "id": "71281af7",
   "metadata": {},
   "outputs": [
    {
     "name": "stdout",
     "output_type": "stream",
     "text": [
      "Parse progress: |████████████████████████████████████████████████████████████████| (done) 100%\n"
     ]
    }
   ],
   "source": [
    "df=h2o.import_file(data_path)"
   ]
  },
  {
   "cell_type": "code",
   "execution_count": 106,
   "id": "f0dd72c1",
   "metadata": {},
   "outputs": [
    {
     "data": {
      "text/html": [
       "<table>\n",
       "<thead>\n",
       "<tr><th>Item_ID  </th><th style=\"text-align: right;\">  Item_W</th><th>Item_Type    </th><th style=\"text-align: right;\">  Item_MRP</th><th>Outlet_ID  </th><th style=\"text-align: right;\">  Outlet_Year</th><th>Outlet_Size  </th><th>Outlet_Location_Type  </th><th style=\"text-align: right;\">   Sales</th></tr>\n",
       "</thead>\n",
       "<tbody>\n",
       "<tr><td>FDU32    </td><td style=\"text-align: right;\"> 21.0275</td><td>Baking Goods </td><td style=\"text-align: right;\">   197.352</td><td>OUT046     </td><td style=\"text-align: right;\">         2004</td><td>Small        </td><td>Tier 2                </td><td style=\"text-align: right;\">2689.46 </td></tr>\n",
       "<tr><td>NCT54    </td><td style=\"text-align: right;\"> 21.1024</td><td>Meat         </td><td style=\"text-align: right;\">   148.25 </td><td>OUT035     </td><td style=\"text-align: right;\">         1987</td><td>Small        </td><td>Tier 1                </td><td style=\"text-align: right;\">3437.35 </td></tr>\n",
       "<tr><td>FDW08    </td><td style=\"text-align: right;\"> 20.8823</td><td>Hard Drinks  </td><td style=\"text-align: right;\">   205.465</td><td>OUT035     </td><td style=\"text-align: right;\">         1999</td><td>Small        </td><td>Tier 3                </td><td style=\"text-align: right;\">3129.97 </td></tr>\n",
       "<tr><td>FDJ22    </td><td style=\"text-align: right;\"> 21.0504</td><td>Starchy Foods</td><td style=\"text-align: right;\">   253.418</td><td>OUT046     </td><td style=\"text-align: right;\">         1996</td><td>Small        </td><td>Tier 1                </td><td style=\"text-align: right;\">1306.51 </td></tr>\n",
       "<tr><td>FDF47    </td><td style=\"text-align: right;\"> 21.2479</td><td>Baking Goods </td><td style=\"text-align: right;\">   240.871</td><td>OUT035     </td><td style=\"text-align: right;\">         1988</td><td>Small        </td><td>Tier 3                </td><td style=\"text-align: right;\">1739.77 </td></tr>\n",
       "<tr><td>DRK12    </td><td style=\"text-align: right;\"> 20.9564</td><td>Baking Goods </td><td style=\"text-align: right;\">   130.265</td><td>OUT049     </td><td style=\"text-align: right;\">         1999</td><td>Small        </td><td>Tier 1                </td><td style=\"text-align: right;\">1963.63 </td></tr>\n",
       "<tr><td>FDA32    </td><td style=\"text-align: right;\"> 21.1966</td><td>Breads       </td><td style=\"text-align: right;\">   239.26 </td><td>OUT035     </td><td style=\"text-align: right;\">         1999</td><td>Small        </td><td>Tier 2                </td><td style=\"text-align: right;\"> 581.888</td></tr>\n",
       "<tr><td>FDH24    </td><td style=\"text-align: right;\"> 20.9493</td><td>Hard Drinks  </td><td style=\"text-align: right;\">   167.267</td><td>OUT046     </td><td style=\"text-align: right;\">         1997</td><td>Small        </td><td>Tier 2                </td><td style=\"text-align: right;\"> 679.055</td></tr>\n",
       "<tr><td>FDW03    </td><td style=\"text-align: right;\"> 20.8848</td><td>Baking Goods </td><td style=\"text-align: right;\">   185.454</td><td>OUT049     </td><td style=\"text-align: right;\">         1997</td><td>Small        </td><td>Tier 1                </td><td style=\"text-align: right;\">1991.32 </td></tr>\n",
       "<tr><td>FDE11    </td><td style=\"text-align: right;\"> 21.1836</td><td>Others       </td><td style=\"text-align: right;\">   239.191</td><td>OUT018     </td><td style=\"text-align: right;\">         2009</td><td>Small        </td><td>Tier 1                </td><td style=\"text-align: right;\"> 730.149</td></tr>\n",
       "</tbody>\n",
       "</table>"
      ]
     },
     "metadata": {},
     "output_type": "display_data"
    },
    {
     "data": {
      "text/plain": []
     },
     "execution_count": 106,
     "metadata": {},
     "output_type": "execute_result"
    }
   ],
   "source": [
    "df"
   ]
  },
  {
   "cell_type": "code",
   "execution_count": 120,
   "id": "cdd1c335",
   "metadata": {},
   "outputs": [],
   "source": [
    "y='Sales'\n",
    "x=df.columns"
   ]
  },
  {
   "cell_type": "code",
   "execution_count": 108,
   "id": "2067b64f",
   "metadata": {},
   "outputs": [
    {
     "name": "stdout",
     "output_type": "stream",
     "text": [
      "AutoML progress: |\n",
      "12:17:58.673: AutoML: XGBoost is not available; skipping it.\n",
      "12:17:58.703: Step 'best_of_family_xgboost' not defined in provider 'StackedEnsemble': skipping it.\n",
      "12:17:58.704: Step 'all_xgboost' not defined in provider 'StackedEnsemble': skipping it.\n",
      "\n",
      "███████████████████████████████████████████████████████████████| (done) 100%\n",
      "Model Details\n",
      "=============\n",
      "H2OStackedEnsembleEstimator :  Stacked Ensemble\n",
      "Model Key:  StackedEnsemble_AllModels_6_AutoML_1_20211107_121758\n",
      "\n",
      "No model summary for this model\n",
      "\n",
      "ModelMetricsRegressionGLM: stackedensemble\n",
      "** Reported on train data. **\n",
      "\n",
      "MSE: 1429674.7941146295\n",
      "RMSE: 1195.6900911668665\n",
      "MAE: 944.6856199327069\n",
      "RMSLE: NaN\n",
      "R^2: 0.1318113537286738\n",
      "Mean Residual Deviance: 1429674.7941146295\n",
      "Null degrees of freedom: 9936\n",
      "Residual degrees of freedom: 9928\n",
      "Null deviance: 16364838839.298325\n",
      "Residual deviance: 14206678429.117073\n",
      "AIC: 169056.66367934982\n",
      "\n",
      "ModelMetricsRegressionGLM: stackedensemble\n",
      "** Reported on cross-validation data. **\n",
      "\n",
      "MSE: 1634221.5988264296\n",
      "RMSE: 1278.366770072826\n",
      "MAE: 1002.4935598766249\n",
      "RMSLE: NaN\n",
      "R^2: 0.020050401548603825\n",
      "Mean Residual Deviance: 1634221.5988264296\n",
      "Null degrees of freedom: 87863\n",
      "Residual degrees of freedom: 87856\n",
      "Null deviance: 146531913719.84384\n",
      "Residual deviance: 143589246559.2854\n",
      "AIC: 1506407.1127780036\n"
     ]
    },
    {
     "data": {
      "text/plain": []
     },
     "execution_count": 108,
     "metadata": {},
     "output_type": "execute_result"
    }
   ],
   "source": [
    "aml = H2OAutoML(max_models=20,seed=1)\n",
    "aml.train(x=x,y=y,training_frame=df)"
   ]
  },
  {
   "cell_type": "code",
   "execution_count": 119,
   "id": "737f17e9",
   "metadata": {},
   "outputs": [
    {
     "data": {
      "text/html": [
       "<table>\n",
       "<thead>\n",
       "<tr><th>model_id                                               </th><th style=\"text-align: right;\">  mean_residual_deviance</th><th style=\"text-align: right;\">   rmse</th><th style=\"text-align: right;\">        mse</th><th style=\"text-align: right;\">    mae</th><th style=\"text-align: right;\">  rmsle</th></tr>\n",
       "</thead>\n",
       "<tbody>\n",
       "<tr><td>StackedEnsemble_AllModels_6_AutoML_1_20211107_121758   </td><td style=\"text-align: right;\">             1.63422e+06</td><td style=\"text-align: right;\">1278.37</td><td style=\"text-align: right;\">1.63422e+06</td><td style=\"text-align: right;\">1002.49</td><td style=\"text-align: right;\">    nan</td></tr>\n",
       "<tr><td>StackedEnsemble_AllModels_3_AutoML_1_20211107_121758   </td><td style=\"text-align: right;\">             1.63454e+06</td><td style=\"text-align: right;\">1278.49</td><td style=\"text-align: right;\">1.63454e+06</td><td style=\"text-align: right;\">1002.32</td><td style=\"text-align: right;\">    nan</td></tr>\n",
       "<tr><td>StackedEnsemble_AllModels_4_AutoML_1_20211107_121758   </td><td style=\"text-align: right;\">             1.63455e+06</td><td style=\"text-align: right;\">1278.49</td><td style=\"text-align: right;\">1.63455e+06</td><td style=\"text-align: right;\">1002.42</td><td style=\"text-align: right;\">    nan</td></tr>\n",
       "<tr><td>StackedEnsemble_AllModels_2_AutoML_1_20211107_121758   </td><td style=\"text-align: right;\">             1.63627e+06</td><td style=\"text-align: right;\">1279.17</td><td style=\"text-align: right;\">1.63627e+06</td><td style=\"text-align: right;\">1002.99</td><td style=\"text-align: right;\">    nan</td></tr>\n",
       "<tr><td>StackedEnsemble_BestOfFamily_3_AutoML_1_20211107_121758</td><td style=\"text-align: right;\">             1.63628e+06</td><td style=\"text-align: right;\">1279.17</td><td style=\"text-align: right;\">1.63628e+06</td><td style=\"text-align: right;\">1003.01</td><td style=\"text-align: right;\">    nan</td></tr>\n",
       "<tr><td>StackedEnsemble_AllModels_5_AutoML_1_20211107_121758   </td><td style=\"text-align: right;\">             1.63683e+06</td><td style=\"text-align: right;\">1279.39</td><td style=\"text-align: right;\">1.63683e+06</td><td style=\"text-align: right;\">1003.27</td><td style=\"text-align: right;\">    nan</td></tr>\n",
       "<tr><td>StackedEnsemble_BestOfFamily_4_AutoML_1_20211107_121758</td><td style=\"text-align: right;\">             1.63776e+06</td><td style=\"text-align: right;\">1279.75</td><td style=\"text-align: right;\">1.63776e+06</td><td style=\"text-align: right;\">1003.35</td><td style=\"text-align: right;\">    nan</td></tr>\n",
       "<tr><td>StackedEnsemble_BestOfFamily_5_AutoML_1_20211107_121758</td><td style=\"text-align: right;\">             1.63777e+06</td><td style=\"text-align: right;\">1279.75</td><td style=\"text-align: right;\">1.63777e+06</td><td style=\"text-align: right;\">1003.35</td><td style=\"text-align: right;\">    nan</td></tr>\n",
       "<tr><td>StackedEnsemble_BestOfFamily_7_AutoML_1_20211107_121758</td><td style=\"text-align: right;\">             1.63785e+06</td><td style=\"text-align: right;\">1279.78</td><td style=\"text-align: right;\">1.63785e+06</td><td style=\"text-align: right;\">1003.57</td><td style=\"text-align: right;\">    nan</td></tr>\n",
       "<tr><td>StackedEnsemble_BestOfFamily_6_AutoML_1_20211107_121758</td><td style=\"text-align: right;\">             1.64093e+06</td><td style=\"text-align: right;\">1280.99</td><td style=\"text-align: right;\">1.64093e+06</td><td style=\"text-align: right;\">1004.34</td><td style=\"text-align: right;\">    nan</td></tr>\n",
       "</tbody>\n",
       "</table>"
      ]
     },
     "metadata": {},
     "output_type": "display_data"
    },
    {
     "data": {
      "text/plain": []
     },
     "execution_count": 119,
     "metadata": {},
     "output_type": "execute_result"
    }
   ],
   "source": [
    "lb = aml.leaderboard\n",
    "lb"
   ]
  },
  {
   "cell_type": "code",
   "execution_count": 111,
   "id": "f5bb98c2",
   "metadata": {},
   "outputs": [],
   "source": [
    "#get model ids for all models in automl leaderboard\n",
    "model_ids = list(aml.leaderboard['model_id'].as_data_frame().iloc[:,0])"
   ]
  },
  {
   "cell_type": "code",
   "execution_count": 112,
   "id": "08eceeb5",
   "metadata": {},
   "outputs": [],
   "source": [
    "#get the All models styacked ensemble model\n",
    "se = h2o.get_model([mid for mid in model_ids if 'StackedEnsemble_AllModels' in mid][0])"
   ]
  },
  {
   "cell_type": "code",
   "execution_count": 113,
   "id": "006e66c0",
   "metadata": {},
   "outputs": [
    {
     "name": "stderr",
     "output_type": "stream",
     "text": [
      "C:\\ProgramData\\Anaconda3\\lib\\site-packages\\h2o\\estimators\\stackedensemble.py:925: H2ODeprecationWarning: The usage of stacked_ensemble.metalearner()['name'] will be deprecated. Metalearner now returns the metalearner object. If you need to get the 'name' please use stacked_ensemble.metalearner().model_id\n",
      "  warnings.warn(\n"
     ]
    }
   ],
   "source": [
    "metalearner = h2o.get_model(se.metalearner()['name'])"
   ]
  },
  {
   "cell_type": "code",
   "execution_count": 114,
   "id": "11181eb5",
   "metadata": {},
   "outputs": [
    {
     "data": {
      "text/plain": [
       "{'Intercept': 1911.8421198060094,\n",
       " 'DeepLearning_grid_2_AutoML_1_20211107_121758_model_1': 17.60235952788741,\n",
       " 'DeepLearning_1_AutoML_1_20211107_121758': 31.0280786925044,\n",
       " 'DeepLearning_grid_3_AutoML_1_20211107_121758_model_1': 12.567845183922442,\n",
       " 'DeepLearning_grid_1_AutoML_1_20211107_121758_model_1': 23.950451079232565,\n",
       " 'GBM_grid_1_AutoML_1_20211107_121758_model_3': 0.0,\n",
       " 'DeepLearning_grid_1_AutoML_1_20211107_121758_model_2': 0.9822508569842342,\n",
       " 'GBM_grid_1_AutoML_1_20211107_121758_model_4': 51.15314738631834,\n",
       " 'GBM_1_AutoML_1_20211107_121758': 35.38223109390967,\n",
       " 'XRT_1_AutoML_1_20211107_121758': 33.387251718323135,\n",
       " 'DeepLearning_grid_3_AutoML_1_20211107_121758_model_2': 0.0,\n",
       " 'GBM_3_AutoML_1_20211107_121758': 0.0,\n",
       " 'GBM_grid_1_AutoML_1_20211107_121758_model_2': 0.0,\n",
       " 'DeepLearning_grid_2_AutoML_1_20211107_121758_model_2': 0.0,\n",
       " 'GBM_2_AutoML_1_20211107_121758': 0.0,\n",
       " 'GLM_1_AutoML_1_20211107_121758': 0.0,\n",
       " 'GBM_5_AutoML_1_20211107_121758': 0.0,\n",
       " 'GBM_grid_1_AutoML_1_20211107_121758_model_1': 0.0,\n",
       " 'GBM_4_AutoML_1_20211107_121758': 0.0,\n",
       " 'DRF_1_AutoML_1_20211107_121758': 0.0,\n",
       " 'GBM_grid_1_AutoML_1_20211107_121758_model_5': 0.0}"
      ]
     },
     "execution_count": 114,
     "metadata": {},
     "output_type": "execute_result"
    }
   ],
   "source": [
    "metalearner.coef_norm()"
   ]
  },
  {
   "cell_type": "code",
   "execution_count": 115,
   "id": "b30d7beb",
   "metadata": {},
   "outputs": [
    {
     "data": {
      "image/png": "[encoded data removed]",
      "text/plain": [
       "<Figure size 1008x720 with 1 Axes>"
      ]
     },
     "metadata": {
      "needs_background": "light"
     },
     "output_type": "display_data"
    }
   ],
   "source": [
    "%matplotlib inline\n",
    "metalearner.std_coef_plot()"
   ]
  },
  {
   "cell_type": "code",
   "execution_count": 122,
   "id": "f0d8aa5d",
   "metadata": {},
   "outputs": [
    {
     "name": "stdout",
     "output_type": "stream",
     "text": [
      "Parse progress: |████████████████████████████████████████████████████████████████| (done) 100%\n"
     ]
    }
   ],
   "source": [
    "train = h2o.import_file(\"train.csv\")"
   ]
  },
  {
   "cell_type": "code",
   "execution_count": 128,
   "id": "96de2309",
   "metadata": {},
   "outputs": [
    {
     "data": {
      "text/html": [
       "<table>\n",
       "<thead>\n",
       "<tr><th>Item_ID  </th><th style=\"text-align: right;\">  Item_W</th><th>Item_Type    </th><th style=\"text-align: right;\">  Item_MRP</th><th>Outlet_ID  </th><th style=\"text-align: right;\">  Outlet_Year</th><th>Outlet_Size  </th><th>Outlet_Location_Type  </th><th style=\"text-align: right;\">   Sales</th></tr>\n",
       "</thead>\n",
       "<tbody>\n",
       "<tr><td>FDU32    </td><td style=\"text-align: right;\"> 21.0275</td><td>Baking Goods </td><td style=\"text-align: right;\">   197.352</td><td>OUT046     </td><td style=\"text-align: right;\">         2004</td><td>Small        </td><td>Tier 2                </td><td style=\"text-align: right;\">2689.46 </td></tr>\n",
       "<tr><td>NCT54    </td><td style=\"text-align: right;\"> 21.1024</td><td>Meat         </td><td style=\"text-align: right;\">   148.25 </td><td>OUT035     </td><td style=\"text-align: right;\">         1987</td><td>Small        </td><td>Tier 1                </td><td style=\"text-align: right;\">3437.35 </td></tr>\n",
       "<tr><td>FDW08    </td><td style=\"text-align: right;\"> 20.8823</td><td>Hard Drinks  </td><td style=\"text-align: right;\">   205.465</td><td>OUT035     </td><td style=\"text-align: right;\">         1999</td><td>Small        </td><td>Tier 3                </td><td style=\"text-align: right;\">3129.97 </td></tr>\n",
       "<tr><td>FDJ22    </td><td style=\"text-align: right;\"> 21.0504</td><td>Starchy Foods</td><td style=\"text-align: right;\">   253.418</td><td>OUT046     </td><td style=\"text-align: right;\">         1996</td><td>Small        </td><td>Tier 1                </td><td style=\"text-align: right;\">1306.51 </td></tr>\n",
       "<tr><td>FDF47    </td><td style=\"text-align: right;\"> 21.2479</td><td>Baking Goods </td><td style=\"text-align: right;\">   240.871</td><td>OUT035     </td><td style=\"text-align: right;\">         1988</td><td>Small        </td><td>Tier 3                </td><td style=\"text-align: right;\">1739.77 </td></tr>\n",
       "<tr><td>DRK12    </td><td style=\"text-align: right;\"> 20.9564</td><td>Baking Goods </td><td style=\"text-align: right;\">   130.265</td><td>OUT049     </td><td style=\"text-align: right;\">         1999</td><td>Small        </td><td>Tier 1                </td><td style=\"text-align: right;\">1963.63 </td></tr>\n",
       "<tr><td>FDA32    </td><td style=\"text-align: right;\"> 21.1966</td><td>Breads       </td><td style=\"text-align: right;\">   239.26 </td><td>OUT035     </td><td style=\"text-align: right;\">         1999</td><td>Small        </td><td>Tier 2                </td><td style=\"text-align: right;\"> 581.888</td></tr>\n",
       "<tr><td>FDH24    </td><td style=\"text-align: right;\"> 20.9493</td><td>Hard Drinks  </td><td style=\"text-align: right;\">   167.267</td><td>OUT046     </td><td style=\"text-align: right;\">         1997</td><td>Small        </td><td>Tier 2                </td><td style=\"text-align: right;\"> 679.055</td></tr>\n",
       "<tr><td>FDW03    </td><td style=\"text-align: right;\"> 20.8848</td><td>Baking Goods </td><td style=\"text-align: right;\">   185.454</td><td>OUT049     </td><td style=\"text-align: right;\">         1997</td><td>Small        </td><td>Tier 1                </td><td style=\"text-align: right;\">1991.32 </td></tr>\n",
       "<tr><td>FDE11    </td><td style=\"text-align: right;\"> 21.1836</td><td>Others       </td><td style=\"text-align: right;\">   239.191</td><td>OUT018     </td><td style=\"text-align: right;\">         2009</td><td>Small        </td><td>Tier 1                </td><td style=\"text-align: right;\"> 730.149</td></tr>\n",
       "</tbody>\n",
       "</table>"
      ]
     },
     "metadata": {},
     "output_type": "display_data"
    },
    {
     "data": {
      "text/plain": []
     },
     "execution_count": 128,
     "metadata": {},
     "output_type": "execute_result"
    }
   ],
   "source": [
    "train"
   ]
  },
  {
   "cell_type": "code",
   "execution_count": 132,
   "id": "90cd4519",
   "metadata": {},
   "outputs": [],
   "source": [
    "y=train['Sales']\n",
    "x=train.columns\n",
    "x.remove(y)\n",
    "X=train[x]"
   ]
  },
  {
   "cell_type": "code",
   "execution_count": 133,
   "id": "36e1fceb",
   "metadata": {},
   "outputs": [
    {
     "data": {
      "text/html": [
       "<table>\n",
       "<thead>\n",
       "<tr><th style=\"text-align: right;\">  Item_W</th><th>Item_Type    </th><th style=\"text-align: right;\">  Item_MRP</th><th>Outlet_ID  </th><th style=\"text-align: right;\">  Outlet_Year</th><th>Outlet_Size  </th><th>Outlet_Location_Type  </th><th style=\"text-align: right;\">   Sales</th></tr>\n",
       "</thead>\n",
       "<tbody>\n",
       "<tr><td style=\"text-align: right;\"> 21.0275</td><td>Baking Goods </td><td style=\"text-align: right;\">   197.352</td><td>OUT046     </td><td style=\"text-align: right;\">         2004</td><td>Small        </td><td>Tier 2                </td><td style=\"text-align: right;\">2689.46 </td></tr>\n",
       "<tr><td style=\"text-align: right;\"> 21.1024</td><td>Meat         </td><td style=\"text-align: right;\">   148.25 </td><td>OUT035     </td><td style=\"text-align: right;\">         1987</td><td>Small        </td><td>Tier 1                </td><td style=\"text-align: right;\">3437.35 </td></tr>\n",
       "<tr><td style=\"text-align: right;\"> 20.8823</td><td>Hard Drinks  </td><td style=\"text-align: right;\">   205.465</td><td>OUT035     </td><td style=\"text-align: right;\">         1999</td><td>Small        </td><td>Tier 3                </td><td style=\"text-align: right;\">3129.97 </td></tr>\n",
       "<tr><td style=\"text-align: right;\"> 21.0504</td><td>Starchy Foods</td><td style=\"text-align: right;\">   253.418</td><td>OUT046     </td><td style=\"text-align: right;\">         1996</td><td>Small        </td><td>Tier 1                </td><td style=\"text-align: right;\">1306.51 </td></tr>\n",
       "<tr><td style=\"text-align: right;\"> 21.2479</td><td>Baking Goods </td><td style=\"text-align: right;\">   240.871</td><td>OUT035     </td><td style=\"text-align: right;\">         1988</td><td>Small        </td><td>Tier 3                </td><td style=\"text-align: right;\">1739.77 </td></tr>\n",
       "<tr><td style=\"text-align: right;\"> 20.9564</td><td>Baking Goods </td><td style=\"text-align: right;\">   130.265</td><td>OUT049     </td><td style=\"text-align: right;\">         1999</td><td>Small        </td><td>Tier 1                </td><td style=\"text-align: right;\">1963.63 </td></tr>\n",
       "<tr><td style=\"text-align: right;\"> 21.1966</td><td>Breads       </td><td style=\"text-align: right;\">   239.26 </td><td>OUT035     </td><td style=\"text-align: right;\">         1999</td><td>Small        </td><td>Tier 2                </td><td style=\"text-align: right;\"> 581.888</td></tr>\n",
       "<tr><td style=\"text-align: right;\"> 20.9493</td><td>Hard Drinks  </td><td style=\"text-align: right;\">   167.267</td><td>OUT046     </td><td style=\"text-align: right;\">         1997</td><td>Small        </td><td>Tier 2                </td><td style=\"text-align: right;\"> 679.055</td></tr>\n",
       "<tr><td style=\"text-align: right;\"> 20.8848</td><td>Baking Goods </td><td style=\"text-align: right;\">   185.454</td><td>OUT049     </td><td style=\"text-align: right;\">         1997</td><td>Small        </td><td>Tier 1                </td><td style=\"text-align: right;\">1991.32 </td></tr>\n",
       "<tr><td style=\"text-align: right;\"> 21.1836</td><td>Others       </td><td style=\"text-align: right;\">   239.191</td><td>OUT018     </td><td style=\"text-align: right;\">         2009</td><td>Small        </td><td>Tier 1                </td><td style=\"text-align: right;\"> 730.149</td></tr>\n",
       "</tbody>\n",
       "</table>"
      ]
     },
     "metadata": {},
     "output_type": "display_data"
    },
    {
     "data": {
      "text/plain": []
     },
     "execution_count": 133,
     "metadata": {},
     "output_type": "execute_result"
    }
   ],
   "source": [
    "X"
   ]
  },
  {
   "cell_type": "code",
   "execution_count": 135,
   "id": "72359be7",
   "metadata": {},
   "outputs": [
    {
     "name": "stdout",
     "output_type": "stream",
     "text": [
      "stackedensemble prediction progress: |███████████████████████████████████████████| (done) 100%\n"
     ]
    }
   ],
   "source": [
    "p=aml.predict(X)"
   ]
  },
  {
   "cell_type": "code",
   "execution_count": 139,
   "id": "ee59768b",
   "metadata": {},
   "outputs": [],
   "source": [
    "p=pd.DataFrame(p)"
   ]
  },
  {
   "cell_type": "code",
   "execution_count": 140,
   "id": "86c4d06c",
   "metadata": {},
   "outputs": [],
   "source": [
    "p=p.to_numpy()"
   ]
  },
  {
   "cell_type": "code",
   "execution_count": 142,
   "id": "783b578c",
   "metadata": {},
   "outputs": [],
   "source": [
    "y=pd.DataFrame(y)\n",
    "y=y.to_numpy()"
   ]
  },
  {
   "cell_type": "code",
   "execution_count": 147,
   "id": "623c6d3e",
   "metadata": {},
   "outputs": [
    {
     "data": {
      "text/plain": [
       "numpy.ndarray"
      ]
     },
     "execution_count": 147,
     "metadata": {},
     "output_type": "execute_result"
    }
   ],
   "source": [
    "type(p)"
   ]
  },
  {
   "cell_type": "code",
   "execution_count": 145,
   "id": "8c64ce65",
   "metadata": {},
   "outputs": [
    {
     "data": {
      "text/html": [
       "<table>\n",
       "<thead>\n",
       "<tr><th style=\"text-align: right;\">  predict</th></tr>\n",
       "</thead>\n",
       "<tbody>\n",
       "<tr><td style=\"text-align: right;\">  2018.82</td></tr>\n",
       "<tr><td style=\"text-align: right;\">  1958.02</td></tr>\n",
       "<tr><td style=\"text-align: right;\">  2088.8 </td></tr>\n",
       "<tr><td style=\"text-align: right;\">  2008.09</td></tr>\n",
       "<tr><td style=\"text-align: right;\">  1950.1 </td></tr>\n",
       "<tr><td style=\"text-align: right;\">  1982.34</td></tr>\n",
       "<tr><td style=\"text-align: right;\">  2155.86</td></tr>\n",
       "<tr><td style=\"text-align: right;\">  1993.84</td></tr>\n",
       "<tr><td style=\"text-align: right;\">  2021.44</td></tr>\n",
       "<tr><td style=\"text-align: right;\">  1874.74</td></tr>\n",
       "</tbody>\n",
       "</table>"
      ]
     },
     "metadata": {},
     "output_type": "display_data"
    },
    {
     "data": {
      "text/plain": [
       "array([[]], dtype=object)"
      ]
     },
     "execution_count": 145,
     "metadata": {},
     "output_type": "execute_result"
    }
   ],
   "source": [
    "p"
   ]
  },
  {
   "cell_type": "code",
   "execution_count": null,
   "id": "e9dbe7ff",
   "metadata": {},
   "outputs": [],
   "source": []
  },
  {
   "cell_type": "code",
   "execution_count": 143,
   "id": "c5b8cade",
   "metadata": {},
   "outputs": [
    {
     "ename": "ValueError",
     "evalue": "setting an array element with a sequence.",
     "output_type": "error",
     "traceback": [
      "\u001b[1;31m---------------------------------------------------------------------------\u001b[0m",
      "\u001b[1;31mH2OValueError\u001b[0m                             Traceback (most recent call last)",
      "\u001b[1;32mC:\\ProgramData\\Anaconda3\\lib\\site-packages\\h2o\\frame.py\u001b[0m in \u001b[0;36m__float__\u001b[1;34m(self)\u001b[0m\n\u001b[0;32m    923\u001b[0m     \u001b[1;32mdef\u001b[0m \u001b[0m__float__\u001b[0m\u001b[1;33m(\u001b[0m\u001b[0mself\u001b[0m\u001b[1;33m)\u001b[0m\u001b[1;33m:\u001b[0m\u001b[1;33m\u001b[0m\u001b[1;33m\u001b[0m\u001b[0m\n\u001b[1;32m--> 924\u001b[1;33m         \u001b[1;32mreturn\u001b[0m \u001b[0mfloat\u001b[0m\u001b[1;33m(\u001b[0m\u001b[0mself\u001b[0m\u001b[1;33m.\u001b[0m\u001b[0mflatten\u001b[0m\u001b[1;33m(\u001b[0m\u001b[1;33m)\u001b[0m\u001b[1;33m)\u001b[0m\u001b[1;33m\u001b[0m\u001b[1;33m\u001b[0m\u001b[0m\n\u001b[0m\u001b[0;32m    925\u001b[0m \u001b[1;33m\u001b[0m\u001b[0m\n",
      "\u001b[1;32mC:\\ProgramData\\Anaconda3\\lib\\site-packages\\h2o\\frame.py\u001b[0m in \u001b[0;36mflatten\u001b[1;34m(self)\u001b[0m\n\u001b[0;32m    942\u001b[0m         \"\"\"\n\u001b[1;32m--> 943\u001b[1;33m         \u001b[1;32mif\u001b[0m \u001b[0mself\u001b[0m\u001b[1;33m.\u001b[0m\u001b[0mshape\u001b[0m \u001b[1;33m!=\u001b[0m \u001b[1;33m(\u001b[0m\u001b[1;36m1\u001b[0m\u001b[1;33m,\u001b[0m \u001b[1;36m1\u001b[0m\u001b[1;33m)\u001b[0m\u001b[1;33m:\u001b[0m \u001b[1;32mraise\u001b[0m \u001b[0mH2OValueError\u001b[0m\u001b[1;33m(\u001b[0m\u001b[1;34m\"Not a 1x1 Frame\"\u001b[0m\u001b[1;33m)\u001b[0m\u001b[1;33m\u001b[0m\u001b[1;33m\u001b[0m\u001b[0m\n\u001b[0m\u001b[0;32m    944\u001b[0m         \u001b[1;32mreturn\u001b[0m \u001b[0mExprNode\u001b[0m\u001b[1;33m(\u001b[0m\u001b[1;34m\"flatten\"\u001b[0m\u001b[1;33m,\u001b[0m \u001b[0mself\u001b[0m\u001b[1;33m)\u001b[0m\u001b[1;33m.\u001b[0m\u001b[0m_eager_scalar\u001b[0m\u001b[1;33m(\u001b[0m\u001b[1;33m)\u001b[0m\u001b[1;33m\u001b[0m\u001b[1;33m\u001b[0m\u001b[0m\n",
      "\u001b[1;31mH2OValueError\u001b[0m: Not a 1x1 Frame",
      "\nThe above exception was the direct cause of the following exception:\n",
      "\u001b[1;31mValueError\u001b[0m                                Traceback (most recent call last)",
      "\u001b[1;32m<ipython-input-143-7896e2a43c56>\u001b[0m in \u001b[0;36m<module>\u001b[1;34m\u001b[0m\n\u001b[0;32m      1\u001b[0m \u001b[0mTitle\u001b[0m \u001b[1;33m=\u001b[0m \u001b[1;34m'Distribution  Plot of  Predicted Value And Training Value Using Training Data Distribution'\u001b[0m\u001b[1;33m\u001b[0m\u001b[1;33m\u001b[0m\u001b[0m\n\u001b[1;32m----> 2\u001b[1;33m \u001b[0mDistributionPlot\u001b[0m\u001b[1;33m(\u001b[0m\u001b[0my\u001b[0m\u001b[1;33m,\u001b[0m \u001b[0mp\u001b[0m\u001b[1;33m,\u001b[0m \u001b[1;34m\"Actual Values (Train)\"\u001b[0m\u001b[1;33m,\u001b[0m \u001b[1;34m\"Predicted Values (Train)\"\u001b[0m\u001b[1;33m,\u001b[0m \u001b[0mTitle\u001b[0m\u001b[1;33m)\u001b[0m\u001b[1;33m\u001b[0m\u001b[1;33m\u001b[0m\u001b[0m\n\u001b[0m",
      "\u001b[1;32m<ipython-input-94-8295196f90e6>\u001b[0m in \u001b[0;36mDistributionPlot\u001b[1;34m(RedFunction, BlueFunction, RedName, BlueName, Title)\u001b[0m\n\u001b[0;32m      4\u001b[0m     \u001b[0mplt\u001b[0m\u001b[1;33m.\u001b[0m\u001b[0mfigure\u001b[0m\u001b[1;33m(\u001b[0m\u001b[0mfigsize\u001b[0m\u001b[1;33m=\u001b[0m\u001b[1;33m(\u001b[0m\u001b[0mwidth\u001b[0m\u001b[1;33m,\u001b[0m \u001b[0mheight\u001b[0m\u001b[1;33m)\u001b[0m\u001b[1;33m)\u001b[0m\u001b[1;33m\u001b[0m\u001b[1;33m\u001b[0m\u001b[0m\n\u001b[0;32m      5\u001b[0m \u001b[1;33m\u001b[0m\u001b[0m\n\u001b[1;32m----> 6\u001b[1;33m     \u001b[0max1\u001b[0m \u001b[1;33m=\u001b[0m \u001b[0msns\u001b[0m\u001b[1;33m.\u001b[0m\u001b[0mdistplot\u001b[0m\u001b[1;33m(\u001b[0m\u001b[0mRedFunction\u001b[0m\u001b[1;33m,\u001b[0m \u001b[0mhist\u001b[0m\u001b[1;33m=\u001b[0m\u001b[1;32mFalse\u001b[0m\u001b[1;33m,\u001b[0m \u001b[0mcolor\u001b[0m\u001b[1;33m=\u001b[0m\u001b[1;34m\"r\"\u001b[0m\u001b[1;33m,\u001b[0m \u001b[0mlabel\u001b[0m\u001b[1;33m=\u001b[0m\u001b[0mRedName\u001b[0m\u001b[1;33m)\u001b[0m\u001b[1;33m\u001b[0m\u001b[1;33m\u001b[0m\u001b[0m\n\u001b[0m\u001b[0;32m      7\u001b[0m     \u001b[0max2\u001b[0m \u001b[1;33m=\u001b[0m \u001b[0msns\u001b[0m\u001b[1;33m.\u001b[0m\u001b[0mdistplot\u001b[0m\u001b[1;33m(\u001b[0m\u001b[0mBlueFunction\u001b[0m\u001b[1;33m,\u001b[0m \u001b[0mhist\u001b[0m\u001b[1;33m=\u001b[0m\u001b[1;32mFalse\u001b[0m\u001b[1;33m,\u001b[0m \u001b[0mcolor\u001b[0m\u001b[1;33m=\u001b[0m\u001b[1;34m\"b\"\u001b[0m\u001b[1;33m,\u001b[0m \u001b[0mlabel\u001b[0m\u001b[1;33m=\u001b[0m\u001b[0mBlueName\u001b[0m\u001b[1;33m,\u001b[0m \u001b[0max\u001b[0m\u001b[1;33m=\u001b[0m\u001b[0max1\u001b[0m\u001b[1;33m)\u001b[0m\u001b[1;33m\u001b[0m\u001b[1;33m\u001b[0m\u001b[0m\n\u001b[0;32m      8\u001b[0m \u001b[1;33m\u001b[0m\u001b[0m\n",
      "\u001b[1;32mC:\\ProgramData\\Anaconda3\\lib\\site-packages\\seaborn\\distributions.py\u001b[0m in \u001b[0;36mdistplot\u001b[1;34m(a, bins, hist, kde, rug, fit, hist_kws, kde_kws, rug_kws, fit_kws, color, vertical, norm_hist, axlabel, label, ax, x)\u001b[0m\n\u001b[0;32m   2572\u001b[0m \u001b[1;33m\u001b[0m\u001b[0m\n\u001b[0;32m   2573\u001b[0m     \u001b[1;31m# Make a a 1-d float array\u001b[0m\u001b[1;33m\u001b[0m\u001b[1;33m\u001b[0m\u001b[1;33m\u001b[0m\u001b[0m\n\u001b[1;32m-> 2574\u001b[1;33m     \u001b[0ma\u001b[0m \u001b[1;33m=\u001b[0m \u001b[0mnp\u001b[0m\u001b[1;33m.\u001b[0m\u001b[0masarray\u001b[0m\u001b[1;33m(\u001b[0m\u001b[0ma\u001b[0m\u001b[1;33m,\u001b[0m \u001b[0mfloat\u001b[0m\u001b[1;33m)\u001b[0m\u001b[1;33m\u001b[0m\u001b[1;33m\u001b[0m\u001b[0m\n\u001b[0m\u001b[0;32m   2575\u001b[0m     \u001b[1;32mif\u001b[0m \u001b[0ma\u001b[0m\u001b[1;33m.\u001b[0m\u001b[0mndim\u001b[0m \u001b[1;33m>\u001b[0m \u001b[1;36m1\u001b[0m\u001b[1;33m:\u001b[0m\u001b[1;33m\u001b[0m\u001b[1;33m\u001b[0m\u001b[0m\n\u001b[0;32m   2576\u001b[0m         \u001b[0ma\u001b[0m \u001b[1;33m=\u001b[0m \u001b[0ma\u001b[0m\u001b[1;33m.\u001b[0m\u001b[0msqueeze\u001b[0m\u001b[1;33m(\u001b[0m\u001b[1;33m)\u001b[0m\u001b[1;33m\u001b[0m\u001b[1;33m\u001b[0m\u001b[0m\n",
      "\u001b[1;32m~\\AppData\\Roaming\\Python\\Python38\\site-packages\\numpy\\core\\_asarray.py\u001b[0m in \u001b[0;36masarray\u001b[1;34m(a, dtype, order)\u001b[0m\n\u001b[0;32m     81\u001b[0m \u001b[1;33m\u001b[0m\u001b[0m\n\u001b[0;32m     82\u001b[0m     \"\"\"\n\u001b[1;32m---> 83\u001b[1;33m     \u001b[1;32mreturn\u001b[0m \u001b[0marray\u001b[0m\u001b[1;33m(\u001b[0m\u001b[0ma\u001b[0m\u001b[1;33m,\u001b[0m \u001b[0mdtype\u001b[0m\u001b[1;33m,\u001b[0m \u001b[0mcopy\u001b[0m\u001b[1;33m=\u001b[0m\u001b[1;32mFalse\u001b[0m\u001b[1;33m,\u001b[0m \u001b[0morder\u001b[0m\u001b[1;33m=\u001b[0m\u001b[0morder\u001b[0m\u001b[1;33m)\u001b[0m\u001b[1;33m\u001b[0m\u001b[1;33m\u001b[0m\u001b[0m\n\u001b[0m\u001b[0;32m     84\u001b[0m \u001b[1;33m\u001b[0m\u001b[0m\n\u001b[0;32m     85\u001b[0m \u001b[1;33m\u001b[0m\u001b[0m\n",
      "\u001b[1;31mValueError\u001b[0m: setting an array element with a sequence."
     ]
    },
    {
     "data": {
      "image/png": "[encoded data removed]",
      "text/plain": [
       "<Figure size 864x720 with 1 Axes>"
      ]
     },
     "metadata": {
      "needs_background": "light"
     },
     "output_type": "display_data"
    }
   ],
   "source": [
    "Title = 'Distribution  Plot of  Predicted Value And Training Value Using Training Data Distribution'\n",
    "DistributionPlot(y, p, \"Actual Values (Train)\", \"Predicted Values (Train)\", Title)"
   ]
  },
  {
   "cell_type": "code",
   "execution_count": 1,
   "id": "8085d45e",
   "metadata": {},
   "outputs": [
    {
     "data": {
      "text/html": [
       "<div>\n",
       "<style scoped>\n",
       "    .dataframe tbody tr th:only-of-type {\n",
       "        vertical-align: middle;\n",
       "    }\n",
       "\n",
       "    .dataframe tbody tr th {\n",
       "        vertical-align: top;\n",
       "    }\n",
       "\n",
       "    .dataframe thead th {\n",
       "        text-align: right;\n",
       "    }\n",
       "</style>\n",
       "<table border=\"1\" class=\"dataframe\">\n",
       "  <thead>\n",
       "    <tr style=\"text-align: right;\">\n",
       "      <th></th>\n",
       "      <th>Sales</th>\n",
       "    </tr>\n",
       "  </thead>\n",
       "  <tbody>\n",
       "    <tr>\n",
       "      <th>0</th>\n",
       "      <td>0.0</td>\n",
       "    </tr>\n",
       "    <tr>\n",
       "      <th>1</th>\n",
       "      <td>0.0</td>\n",
       "    </tr>\n",
       "    <tr>\n",
       "      <th>2</th>\n",
       "      <td>0.0</td>\n",
       "    </tr>\n",
       "    <tr>\n",
       "      <th>3</th>\n",
       "      <td>0.0</td>\n",
       "    </tr>\n",
       "    <tr>\n",
       "      <th>4</th>\n",
       "      <td>0.0</td>\n",
       "    </tr>\n",
       "    <tr>\n",
       "      <th>...</th>\n",
       "      <td>...</td>\n",
       "    </tr>\n",
       "    <tr>\n",
       "      <th>37651</th>\n",
       "      <td>0.0</td>\n",
       "    </tr>\n",
       "    <tr>\n",
       "      <th>37652</th>\n",
       "      <td>0.0</td>\n",
       "    </tr>\n",
       "    <tr>\n",
       "      <th>37653</th>\n",
       "      <td>0.0</td>\n",
       "    </tr>\n",
       "    <tr>\n",
       "      <th>37654</th>\n",
       "      <td>0.0</td>\n",
       "    </tr>\n",
       "    <tr>\n",
       "      <th>37655</th>\n",
       "      <td>0.0</td>\n",
       "    </tr>\n",
       "  </tbody>\n",
       "</table>\n",
       "<p>37656 rows × 1 columns</p>\n",
       "</div>"
      ],
      "text/plain": [
       "       Sales\n",
       "0        0.0\n",
       "1        0.0\n",
       "2        0.0\n",
       "3        0.0\n",
       "4        0.0\n",
       "...      ...\n",
       "37651    0.0\n",
       "37652    0.0\n",
       "37653    0.0\n",
       "37654    0.0\n",
       "37655    0.0\n",
       "\n",
       "[37656 rows x 1 columns]"
      ]
     },
     "execution_count": 1,
     "metadata": {},
     "output_type": "execute_result"
    }
   ],
   "source": [
    "import pandas as pd\n",
    "df = pd.read_csv('submission.csv')\n",
    "df"
   ]
  },
  {
   "cell_type": "code",
   "execution_count": null,
   "id": "d66677e0",
   "metadata": {},
   "outputs": [],
   "source": []
  }
 ],
 "metadata": {
  "kernelspec": {
   "display_name": "Python 3",
   "language": "python",
   "name": "python3"
  },
  "language_info": {
   "codemirror_mode": {
    "name": "ipython",
    "version": 3
   },
   "file_extension": ".py",
   "mimetype": "text/x-python",
   "name": "python",
   "nbconvert_exporter": "python",
   "pygments_lexer": "ipython3",
   "version": "3.8.8"
  }
 },
 "nbformat": 4,
 "nbformat_minor": 5
}
